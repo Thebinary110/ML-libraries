{
 "cells": [
  {
   "cell_type": "code",
   "execution_count": 1,
   "id": "1d11735c-cde2-40e2-a96f-267b092e995d",
   "metadata": {},
   "outputs": [],
   "source": [
    "#Numpy tutorials\n",
    "## Numpy is a geneal pupose array processing package. it provides a high-performance multidimensional array object and tools for working with these arrays it is a fundamnetal package for scientific computing with python."
   ]
  },
  {
   "cell_type": "code",
   "execution_count": 2,
   "id": "d8bf2f5e-52c2-4ce3-ae5c-a4a7c6fd272a",
   "metadata": {},
   "outputs": [],
   "source": [
    "##what is an array\n",
    "### an array is an data structure that stores values of same data type . in python this is the main differnce between the arrays and the list."
   ]
  },
  {
   "cell_type": "code",
   "execution_count": 10,
   "id": "79ecaa67-50ac-48d8-a652-5536810ff6a0",
   "metadata": {},
   "outputs": [],
   "source": [
    "## initially lets import nummpy since the package is already installed.\n",
    "\n",
    "import numpy as np"
   ]
  },
  {
   "cell_type": "code",
   "execution_count": 7,
   "id": "89730577-d907-4a83-b8c7-560e5a707c72",
   "metadata": {},
   "outputs": [],
   "source": [
    "my_lst = [1,2,3,4,5]\n",
    "\n",
    "arr=np.array(my_lst)"
   ]
  },
  {
   "cell_type": "code",
   "execution_count": 8,
   "id": "85ab6743-7b73-42ec-978b-da88c688ea6b",
   "metadata": {},
   "outputs": [
    {
     "data": {
      "text/plain": [
       "numpy.ndarray"
      ]
     },
     "execution_count": 8,
     "metadata": {},
     "output_type": "execute_result"
    }
   ],
   "source": [
    "type(arr)"
   ]
  },
  {
   "cell_type": "code",
   "execution_count": 9,
   "id": "3c258caa-29a4-4eed-acae-f7c41416b79a",
   "metadata": {},
   "outputs": [
    {
     "data": {
      "text/plain": [
       "array([1, 2, 3, 4, 5])"
      ]
     },
     "execution_count": 9,
     "metadata": {},
     "output_type": "execute_result"
    }
   ],
   "source": [
    "arr"
   ]
  },
  {
   "cell_type": "code",
   "execution_count": 13,
   "id": "2c47be48-455b-4414-aea2-51984afcdb5e",
   "metadata": {},
   "outputs": [
    {
     "data": {
      "text/plain": [
       "(5,)"
      ]
     },
     "execution_count": 13,
     "metadata": {},
     "output_type": "execute_result"
    }
   ],
   "source": [
    "# to check how many number of elements are present in the array\n",
    "\n",
    "arr.shape"
   ]
  },
  {
   "cell_type": "code",
   "execution_count": 20,
   "id": "c90c3a2f-eff9-426b-b053-75f306936e64",
   "metadata": {},
   "outputs": [],
   "source": [
    "my_lst1=[1,2,3,4,5]\n",
    "my_lst2=[2,3,4,5,6]\n",
    "my_lst3=[3,4,5,6,7]\n",
    "\n",
    "arr=np.array([my_lst1,my_lst2,my_lst3])"
   ]
  },
  {
   "cell_type": "code",
   "execution_count": 21,
   "id": "cc6ac0d5-75d8-4939-9b1d-b9083fc2fb95",
   "metadata": {},
   "outputs": [
    {
     "data": {
      "text/plain": [
       "array([[1, 2, 3, 4, 5],\n",
       "       [2, 3, 4, 5, 6],\n",
       "       [3, 4, 5, 6, 7]])"
      ]
     },
     "execution_count": 21,
     "metadata": {},
     "output_type": "execute_result"
    }
   ],
   "source": [
    "arr"
   ]
  },
  {
   "cell_type": "code",
   "execution_count": 22,
   "id": "c16f16cd-1c31-4728-8842-9528dbe4de20",
   "metadata": {},
   "outputs": [
    {
     "data": {
      "text/plain": [
       "(3, 5)"
      ]
     },
     "execution_count": 22,
     "metadata": {},
     "output_type": "execute_result"
    }
   ],
   "source": [
    "arr.shape"
   ]
  },
  {
   "cell_type": "code",
   "execution_count": 23,
   "id": "d20701cf-bec8-4f68-8ebf-a8e189389e2e",
   "metadata": {},
   "outputs": [
    {
     "data": {
      "text/plain": [
       "array([[1, 2, 3],\n",
       "       [4, 5, 2],\n",
       "       [3, 4, 5],\n",
       "       [6, 3, 4],\n",
       "       [5, 6, 7]])"
      ]
     },
     "execution_count": 23,
     "metadata": {},
     "output_type": "execute_result"
    }
   ],
   "source": [
    "arr.reshape(5,3)"
   ]
  },
  {
   "cell_type": "code",
   "execution_count": 26,
   "id": "ff2bbe61-8bc4-4f5b-a08a-f042a3da29e0",
   "metadata": {},
   "outputs": [
    {
     "data": {
      "text/plain": [
       "(3, 5)"
      ]
     },
     "execution_count": 26,
     "metadata": {},
     "output_type": "execute_result"
    }
   ],
   "source": [
    "arr.shape"
   ]
  },
  {
   "cell_type": "code",
   "execution_count": 27,
   "id": "7c0fa0de-ac9a-4c27-b614-ef84182f4d76",
   "metadata": {},
   "outputs": [],
   "source": [
    "#indexing"
   ]
  },
  {
   "cell_type": "code",
   "execution_count": 36,
   "id": "12727c9c-e84b-4c3b-941a-1af012d95050",
   "metadata": {},
   "outputs": [],
   "source": [
    "arr=np.array([my_lst1,my_lst2,my_lst3])"
   ]
  },
  {
   "cell_type": "code",
   "execution_count": 37,
   "id": "88cd78ee-4d5e-4796-8be4-804b915f90b7",
   "metadata": {},
   "outputs": [
    {
     "data": {
      "text/plain": [
       "array([[1, 2, 3, 4, 5],\n",
       "       [2, 3, 4, 5, 6],\n",
       "       [3, 4, 5, 6, 7]])"
      ]
     },
     "execution_count": 37,
     "metadata": {},
     "output_type": "execute_result"
    }
   ],
   "source": [
    "arr\n"
   ]
  },
  {
   "cell_type": "code",
   "execution_count": 38,
   "id": "1b061260-bf83-4793-9552-16c0064b0893",
   "metadata": {},
   "outputs": [
    {
     "data": {
      "text/plain": [
       "array([[1, 2],\n",
       "       [2, 3]])"
      ]
     },
     "execution_count": 38,
     "metadata": {},
     "output_type": "execute_result"
    }
   ],
   "source": [
    "arr[0:2 , 0:2]"
   ]
  },
  {
   "cell_type": "code",
   "execution_count": 42,
   "id": "1fa8a66c-4784-4557-86d7-2f5bd2b4a50c",
   "metadata": {},
   "outputs": [
    {
     "data": {
      "text/plain": [
       "array([[3, 4],\n",
       "       [4, 5],\n",
       "       [5, 6]])"
      ]
     },
     "execution_count": 42,
     "metadata": {},
     "output_type": "execute_result"
    }
   ],
   "source": [
    "arr[0:3 , 2:4]"
   ]
  },
  {
   "cell_type": "code",
   "execution_count": 43,
   "id": "ce303e69-42f5-41c0-ae98-11c54f40e807",
   "metadata": {},
   "outputs": [
    {
     "data": {
      "text/plain": [
       "array([[5, 6],\n",
       "       [6, 7]])"
      ]
     },
     "execution_count": 43,
     "metadata": {},
     "output_type": "execute_result"
    }
   ],
   "source": [
    "arr[1:3 , 3:5]"
   ]
  },
  {
   "cell_type": "code",
   "execution_count": 52,
   "id": "38e5c4a3-0ded-4d26-92c4-186fff9fe801",
   "metadata": {},
   "outputs": [],
   "source": [
    "#inbuilt functions of numpy\n",
    "## to print elements between a particular number range. we use arange.\n",
    "##step is used to give a gap according to a number inserted in step.\n",
    "arr = np.arange(0,10 , step=1)"
   ]
  },
  {
   "cell_type": "code",
   "execution_count": 53,
   "id": "e8f363f5-1fd2-410a-9d0a-292d4241ec59",
   "metadata": {},
   "outputs": [
    {
     "data": {
      "text/plain": [
       "array([0, 1, 2, 3, 4, 5, 6, 7, 8, 9])"
      ]
     },
     "execution_count": 53,
     "metadata": {},
     "output_type": "execute_result"
    }
   ],
   "source": [
    "arr\n"
   ]
  },
  {
   "cell_type": "code",
   "execution_count": 56,
   "id": "d1412ea3-0d43-4d81-ba31-d3260af7806c",
   "metadata": {},
   "outputs": [
    {
     "data": {
      "text/plain": [
       "array([ 1.        ,  1.18367347,  1.36734694,  1.55102041,  1.73469388,\n",
       "        1.91836735,  2.10204082,  2.28571429,  2.46938776,  2.65306122,\n",
       "        2.83673469,  3.02040816,  3.20408163,  3.3877551 ,  3.57142857,\n",
       "        3.75510204,  3.93877551,  4.12244898,  4.30612245,  4.48979592,\n",
       "        4.67346939,  4.85714286,  5.04081633,  5.2244898 ,  5.40816327,\n",
       "        5.59183673,  5.7755102 ,  5.95918367,  6.14285714,  6.32653061,\n",
       "        6.51020408,  6.69387755,  6.87755102,  7.06122449,  7.24489796,\n",
       "        7.42857143,  7.6122449 ,  7.79591837,  7.97959184,  8.16326531,\n",
       "        8.34693878,  8.53061224,  8.71428571,  8.89795918,  9.08163265,\n",
       "        9.26530612,  9.44897959,  9.63265306,  9.81632653, 10.        ])"
      ]
     },
     "execution_count": 56,
     "metadata": {},
     "output_type": "execute_result"
    }
   ],
   "source": [
    "#another inbuiilt function is linspace \n",
    "np.linspace(1,10,50)"
   ]
  },
  {
   "cell_type": "code",
   "execution_count": 57,
   "id": "ec748610-2c11-455c-a859-538fee4348cd",
   "metadata": {},
   "outputs": [
    {
     "data": {
      "text/plain": [
       "array([0, 1, 2, 3, 4, 5, 6, 7, 8, 9])"
      ]
     },
     "execution_count": 57,
     "metadata": {},
     "output_type": "execute_result"
    }
   ],
   "source": [
    "arr"
   ]
  },
  {
   "cell_type": "code",
   "execution_count": 61,
   "id": "1c0d0029-40c8-419b-b69e-d73f2fe91574",
   "metadata": {},
   "outputs": [],
   "source": [
    "#this syntax replaces the number with another number in the array \n",
    "arr[3:]=100"
   ]
  },
  {
   "cell_type": "code",
   "execution_count": 62,
   "id": "c3bab13a-e177-47a3-bdf4-0ca320382d6c",
   "metadata": {},
   "outputs": [
    {
     "data": {
      "text/plain": [
       "array([  0,   1,   2, 100, 100, 100, 100, 100, 100, 100])"
      ]
     },
     "execution_count": 62,
     "metadata": {},
     "output_type": "execute_result"
    }
   ],
   "source": [
    "arr\n"
   ]
  },
  {
   "cell_type": "code",
   "execution_count": 63,
   "id": "cb51c523-3ddc-4470-a8f5-d2dfba67e10e",
   "metadata": {},
   "outputs": [],
   "source": [
    "#we have a problem with python there on every assignment copy of a variable due to its reference nature it operation is performed on every other variavle linked this problem can be solved by the help of numpy copy function.\n",
    "arr2 = arr.copy()"
   ]
  },
  {
   "cell_type": "code",
   "execution_count": 64,
   "id": "a4b71d3b-c673-4ed0-925d-abeadf877327",
   "metadata": {},
   "outputs": [
    {
     "name": "stdout",
     "output_type": "stream",
     "text": [
      "[  0   1   2 100 100 100 100 100 100 100]\n",
      "[  0   1   2 500 500 500 500 500 500 500]\n"
     ]
    }
   ],
   "source": [
    "print(arr)\n",
    "arr2[3:]=500\n",
    "print(arr2)"
   ]
  },
  {
   "cell_type": "code",
   "execution_count": 65,
   "id": "288a6c13-8e76-4320-9d6a-4ab041e811e3",
   "metadata": {},
   "outputs": [],
   "source": [
    "#now we can clearly see that this problem is being solved."
   ]
  },
  {
   "cell_type": "code",
   "execution_count": 81,
   "id": "a49a0bc7-9073-4849-a98f-391b87bb3c8f",
   "metadata": {},
   "outputs": [
    {
     "name": "stdout",
     "output_type": "stream",
     "text": [
      "[2]\n",
      "[100 100 100 100 100 100 100]\n",
      "[0 1]\n"
     ]
    },
    {
     "data": {
      "text/plain": [
       "array([  0,   2,   4, 200, 200, 200, 200, 200, 200, 200])"
      ]
     },
     "execution_count": 81,
     "metadata": {},
     "output_type": "execute_result"
    }
   ],
   "source": [
    "### some conditions are very useful in exploratory data analysis.\n",
    "## with the help of this line of code we can check the value greater than or less that or equal to the given values in an array.\n",
    "val = 2\n",
    "print(arr[arr==val])\n",
    "print(arr[arr>val])\n",
    "print(arr[arr<val])\n",
    "arr * 2 ## by this all the elements are multiply by 2"
   ]
  },
  {
   "cell_type": "code",
   "execution_count": 83,
   "id": "ffe3e87e-c532-4f02-a2dd-0a3e2139e4a3",
   "metadata": {},
   "outputs": [
    {
     "data": {
      "text/plain": [
       "array([1, 1, 1, 1])"
      ]
     },
     "execution_count": 83,
     "metadata": {},
     "output_type": "execute_result"
    }
   ],
   "source": [
    "## another inbuilt function is np.ones since the default value is float we can change it also.\n",
    "np.ones(4,dtype=int)"
   ]
  },
  {
   "cell_type": "code",
   "execution_count": 88,
   "id": "75756177-69dd-4419-b20c-9149f8a06fed",
   "metadata": {},
   "outputs": [
    {
     "data": {
      "text/plain": [
       "array([[0.60468194, 0.04324078, 0.69852271],\n",
       "       [0.44311307, 0.2892962 , 0.23484722],\n",
       "       [0.2036249 , 0.28380073, 0.69290257]])"
      ]
     },
     "execution_count": 88,
     "metadata": {},
     "output_type": "execute_result"
    }
   ],
   "source": [
    "np.random.rand(3,3) ## random distribution."
   ]
  },
  {
   "cell_type": "code",
   "execution_count": 107,
   "id": "6e928135-581e-41bf-9e19-243ccbb80e8c",
   "metadata": {},
   "outputs": [],
   "source": [
    "arr_ex=np.random.randn(4,4)"
   ]
  },
  {
   "cell_type": "code",
   "execution_count": 108,
   "id": "0a97cba0-920e-419d-84a1-d5b428b9e8a5",
   "metadata": {},
   "outputs": [
    {
     "data": {
      "text/plain": [
       "array([[ 1.7809623 , -1.79628957, -0.88543322,  1.91145124],\n",
       "       [ 0.58088829, -0.96177342,  2.55073835, -0.16206483],\n",
       "       [ 0.11098797, -1.05730893, -0.58729159,  0.60968204],\n",
       "       [ 0.46039261, -1.4115561 ,  0.38458402,  0.43478564]])"
      ]
     },
     "execution_count": 108,
     "metadata": {},
     "output_type": "execute_result"
    }
   ],
   "source": [
    "arr_ex"
   ]
  },
  {
   "cell_type": "code",
   "execution_count": 101,
   "id": "f9ac7e41-b558-439c-b625-3736995db7c8",
   "metadata": {},
   "outputs": [],
   "source": [
    "import seaborn as sns\n"
   ]
  },
  {
   "cell_type": "code",
   "execution_count": 105,
   "id": "02f11098-5b26-4210-9730-d387b37ba012",
   "metadata": {},
   "outputs": [],
   "source": [
    "import pandas as pd"
   ]
  },
  {
   "cell_type": "code",
   "execution_count": 109,
   "id": "bddf03b9-2581-408a-80f3-c659d489088a",
   "metadata": {},
   "outputs": [
    {
     "name": "stderr",
     "output_type": "stream",
     "text": [
      "C:\\Users\\Dell\\AppData\\Local\\Temp\\ipykernel_27100\\1832295236.py:1: UserWarning: \n",
      "\n",
      "`distplot` is a deprecated function and will be removed in seaborn v0.14.0.\n",
      "\n",
      "Please adapt your code to use either `displot` (a figure-level function with\n",
      "similar flexibility) or `histplot` (an axes-level function for histograms).\n",
      "\n",
      "For a guide to updating your code to use the new functions, please see\n",
      "https://gist.github.com/mwaskom/de44147ed2974457ad6372750bbe5751\n",
      "\n",
      "  sns.distplot(pd.DataFrame(arr_ex.reshape(16,1)))\n",
      "C:\\Users\\Dell\\anaconda3\\Lib\\site-packages\\seaborn\\_oldcore.py:1119: FutureWarning: use_inf_as_na option is deprecated and will be removed in a future version. Convert inf values to NaN before operating instead.\n",
      "  with pd.option_context('mode.use_inf_as_na', True):\n"
     ]
    },
    {
     "data": {
      "text/plain": [
       "<Axes: ylabel='Density'>"
      ]
     },
     "execution_count": 109,
     "metadata": {},
     "output_type": "execute_result"
    },
    {
     "data": {
      "image/png": "[encoded data removed]",
      "text/plain": [
       "<Figure size 640x480 with 1 Axes>"
      ]
     },
     "metadata": {},
     "output_type": "display_data"
    }
   ],
   "source": [
    "sns.distplot(pd.DataFrame(arr_ex.reshape(16,1)))"
   ]
  },
  {
   "cell_type": "code",
   "execution_count": null,
   "id": "72cfd7a1-9802-4bb9-b3d4-45c373f8101a",
   "metadata": {},
   "outputs": [],
   "source": []
  }
 ],
 "metadata": {
  "kernelspec": {
   "display_name": "Python 3 (ipykernel)",
   "language": "python",
   "name": "python3"
  },
  "language_info": {
   "codemirror_mode": {
    "name": "ipython",
    "version": 3
   },
   "file_extension": ".py",
   "mimetype": "text/x-python",
   "name": "python",
   "nbconvert_exporter": "python",
   "pygments_lexer": "ipython3",
   "version": "3.11.7"
  }
 },
 "nbformat": 4,
 "nbformat_minor": 5
}
