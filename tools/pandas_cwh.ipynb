{
 "cells": [
  {
   "cell_type": "code",
   "execution_count": 1,
   "id": "6642f2ff-3369-49c4-8149-565397cdab00",
   "metadata": {},
   "outputs": [],
   "source": [
    "import numpy as np\n",
    "import pandas as pd"
   ]
  },
  {
   "cell_type": "code",
   "execution_count": 2,
   "id": "45727da2-168a-447d-9493-c66e5306f59d",
   "metadata": {},
   "outputs": [],
   "source": [
    "dict1 = {\n",
    "    \"name\":['shhaurya' , 'shivaan' , 'kabir'],\n",
    "    \"marks\":[92,34,24],\n",
    "    \"city\":['rampur', 'kolkata' , 'bareilly']\n",
    "}"
   ]
  },
  {
   "cell_type": "code",
   "execution_count": 3,
   "id": "0392acfc-ef72-4e05-99eb-f5f2a8550948",
   "metadata": {},
   "outputs": [],
   "source": [
    "df = pd.DataFrame(dict1)"
   ]
  },
  {
   "cell_type": "code",
   "execution_count": 4,
   "id": "624ad673-36ec-4bf1-b405-ce61918f888a",
   "metadata": {},
   "outputs": [
    {
     "data": {
      "text/html": [
       "<div>\n",
       "<style scoped>\n",
       "    .dataframe tbody tr th:only-of-type {\n",
       "        vertical-align: middle;\n",
       "    }\n",
       "\n",
       "    .dataframe tbody tr th {\n",
       "        vertical-align: top;\n",
       "    }\n",
       "\n",
       "    .dataframe thead th {\n",
       "        text-align: right;\n",
       "    }\n",
       "</style>\n",
       "<table border=\"1\" class=\"dataframe\">\n",
       "  <thead>\n",
       "    <tr style=\"text-align: right;\">\n",
       "      <th></th>\n",
       "      <th>name</th>\n",
       "      <th>marks</th>\n",
       "      <th>city</th>\n",
       "    </tr>\n",
       "  </thead>\n",
       "  <tbody>\n",
       "    <tr>\n",
       "      <th>0</th>\n",
       "      <td>shhaurya</td>\n",
       "      <td>92</td>\n",
       "      <td>rampur</td>\n",
       "    </tr>\n",
       "    <tr>\n",
       "      <th>1</th>\n",
       "      <td>shivaan</td>\n",
       "      <td>34</td>\n",
       "      <td>kolkata</td>\n",
       "    </tr>\n",
       "    <tr>\n",
       "      <th>2</th>\n",
       "      <td>kabir</td>\n",
       "      <td>24</td>\n",
       "      <td>bareilly</td>\n",
       "    </tr>\n",
       "  </tbody>\n",
       "</table>\n",
       "</div>"
      ],
      "text/plain": [
       "       name  marks      city\n",
       "0  shhaurya     92    rampur\n",
       "1   shivaan     34   kolkata\n",
       "2     kabir     24  bareilly"
      ]
     },
     "execution_count": 4,
     "metadata": {},
     "output_type": "execute_result"
    }
   ],
   "source": [
    "df"
   ]
  },
  {
   "cell_type": "code",
   "execution_count": 5,
   "id": "1d228de9-34cc-4cf7-9487-2156fe2a6552",
   "metadata": {},
   "outputs": [],
   "source": [
    "df.to_csv('friends.csv')"
   ]
  },
  {
   "cell_type": "code",
   "execution_count": 6,
   "id": "d8c0194d-842c-4bf3-9d58-8bd0db683658",
   "metadata": {},
   "outputs": [
    {
     "data": {
      "text/html": [
       "<div>\n",
       "<style scoped>\n",
       "    .dataframe tbody tr th:only-of-type {\n",
       "        vertical-align: middle;\n",
       "    }\n",
       "\n",
       "    .dataframe tbody tr th {\n",
       "        vertical-align: top;\n",
       "    }\n",
       "\n",
       "    .dataframe thead th {\n",
       "        text-align: right;\n",
       "    }\n",
       "</style>\n",
       "<table border=\"1\" class=\"dataframe\">\n",
       "  <thead>\n",
       "    <tr style=\"text-align: right;\">\n",
       "      <th></th>\n",
       "      <th>name</th>\n",
       "      <th>marks</th>\n",
       "      <th>city</th>\n",
       "    </tr>\n",
       "  </thead>\n",
       "  <tbody>\n",
       "    <tr>\n",
       "      <th>1</th>\n",
       "      <td>shivaan</td>\n",
       "      <td>34</td>\n",
       "      <td>kolkata</td>\n",
       "    </tr>\n",
       "    <tr>\n",
       "      <th>2</th>\n",
       "      <td>kabir</td>\n",
       "      <td>24</td>\n",
       "      <td>bareilly</td>\n",
       "    </tr>\n",
       "  </tbody>\n",
       "</table>\n",
       "</div>"
      ],
      "text/plain": [
       "      name  marks      city\n",
       "1  shivaan     34   kolkata\n",
       "2    kabir     24  bareilly"
      ]
     },
     "execution_count": 6,
     "metadata": {},
     "output_type": "execute_result"
    }
   ],
   "source": [
    "df.tail(2)"
   ]
  },
  {
   "cell_type": "code",
   "execution_count": 7,
   "id": "3525214d-96b3-428c-a583-05c3a1ca9e43",
   "metadata": {},
   "outputs": [
    {
     "data": {
      "text/html": [
       "<div>\n",
       "<style scoped>\n",
       "    .dataframe tbody tr th:only-of-type {\n",
       "        vertical-align: middle;\n",
       "    }\n",
       "\n",
       "    .dataframe tbody tr th {\n",
       "        vertical-align: top;\n",
       "    }\n",
       "\n",
       "    .dataframe thead th {\n",
       "        text-align: right;\n",
       "    }\n",
       "</style>\n",
       "<table border=\"1\" class=\"dataframe\">\n",
       "  <thead>\n",
       "    <tr style=\"text-align: right;\">\n",
       "      <th></th>\n",
       "      <th>name</th>\n",
       "      <th>marks</th>\n",
       "      <th>city</th>\n",
       "    </tr>\n",
       "  </thead>\n",
       "  <tbody>\n",
       "    <tr>\n",
       "      <th>0</th>\n",
       "      <td>shhaurya</td>\n",
       "      <td>92</td>\n",
       "      <td>rampur</td>\n",
       "    </tr>\n",
       "    <tr>\n",
       "      <th>1</th>\n",
       "      <td>shivaan</td>\n",
       "      <td>34</td>\n",
       "      <td>kolkata</td>\n",
       "    </tr>\n",
       "  </tbody>\n",
       "</table>\n",
       "</div>"
      ],
      "text/plain": [
       "       name  marks     city\n",
       "0  shhaurya     92   rampur\n",
       "1   shivaan     34  kolkata"
      ]
     },
     "execution_count": 7,
     "metadata": {},
     "output_type": "execute_result"
    }
   ],
   "source": [
    "df.head(2)"
   ]
  },
  {
   "cell_type": "code",
   "execution_count": 8,
   "id": "2db85495-bb6d-43b2-8428-64ba31ffdd5e",
   "metadata": {},
   "outputs": [
    {
     "data": {
      "text/html": [
       "<div>\n",
       "<style scoped>\n",
       "    .dataframe tbody tr th:only-of-type {\n",
       "        vertical-align: middle;\n",
       "    }\n",
       "\n",
       "    .dataframe tbody tr th {\n",
       "        vertical-align: top;\n",
       "    }\n",
       "\n",
       "    .dataframe thead th {\n",
       "        text-align: right;\n",
       "    }\n",
       "</style>\n",
       "<table border=\"1\" class=\"dataframe\">\n",
       "  <thead>\n",
       "    <tr style=\"text-align: right;\">\n",
       "      <th></th>\n",
       "      <th>marks</th>\n",
       "    </tr>\n",
       "  </thead>\n",
       "  <tbody>\n",
       "    <tr>\n",
       "      <th>count</th>\n",
       "      <td>3.00000</td>\n",
       "    </tr>\n",
       "    <tr>\n",
       "      <th>mean</th>\n",
       "      <td>50.00000</td>\n",
       "    </tr>\n",
       "    <tr>\n",
       "      <th>std</th>\n",
       "      <td>36.71512</td>\n",
       "    </tr>\n",
       "    <tr>\n",
       "      <th>min</th>\n",
       "      <td>24.00000</td>\n",
       "    </tr>\n",
       "    <tr>\n",
       "      <th>25%</th>\n",
       "      <td>29.00000</td>\n",
       "    </tr>\n",
       "    <tr>\n",
       "      <th>50%</th>\n",
       "      <td>34.00000</td>\n",
       "    </tr>\n",
       "    <tr>\n",
       "      <th>75%</th>\n",
       "      <td>63.00000</td>\n",
       "    </tr>\n",
       "    <tr>\n",
       "      <th>max</th>\n",
       "      <td>92.00000</td>\n",
       "    </tr>\n",
       "  </tbody>\n",
       "</table>\n",
       "</div>"
      ],
      "text/plain": [
       "          marks\n",
       "count   3.00000\n",
       "mean   50.00000\n",
       "std    36.71512\n",
       "min    24.00000\n",
       "25%    29.00000\n",
       "50%    34.00000\n",
       "75%    63.00000\n",
       "max    92.00000"
      ]
     },
     "execution_count": 8,
     "metadata": {},
     "output_type": "execute_result"
    }
   ],
   "source": [
    "df.describe()"
   ]
  },
  {
   "cell_type": "code",
   "execution_count": 9,
   "id": "cd52786b-10fa-40d9-8c34-89c97285fea3",
   "metadata": {},
   "outputs": [],
   "source": [
    "train = pd.read_csv('train.csv')"
   ]
  },
  {
   "cell_type": "code",
   "execution_count": 10,
   "id": "903cda2c-ec21-4506-8f4a-c1a25bfc0200",
   "metadata": {},
   "outputs": [
    {
     "data": {
      "text/html": [
       "<div>\n",
       "<style scoped>\n",
       "    .dataframe tbody tr th:only-of-type {\n",
       "        vertical-align: middle;\n",
       "    }\n",
       "\n",
       "    .dataframe tbody tr th {\n",
       "        vertical-align: top;\n",
       "    }\n",
       "\n",
       "    .dataframe thead th {\n",
       "        text-align: right;\n",
       "    }\n",
       "</style>\n",
       "<table border=\"1\" class=\"dataframe\">\n",
       "  <thead>\n",
       "    <tr style=\"text-align: right;\">\n",
       "      <th></th>\n",
       "      <th>Train no.</th>\n",
       "      <th>speed</th>\n",
       "      <th>city</th>\n",
       "    </tr>\n",
       "  </thead>\n",
       "  <tbody>\n",
       "    <tr>\n",
       "      <th>0</th>\n",
       "      <td>11232</td>\n",
       "      <td>45</td>\n",
       "      <td>rampur</td>\n",
       "    </tr>\n",
       "    <tr>\n",
       "      <th>1</th>\n",
       "      <td>12534</td>\n",
       "      <td>34</td>\n",
       "      <td>kolkata</td>\n",
       "    </tr>\n",
       "    <tr>\n",
       "      <th>2</th>\n",
       "      <td>92847</td>\n",
       "      <td>24</td>\n",
       "      <td>bareilly</td>\n",
       "    </tr>\n",
       "    <tr>\n",
       "      <th>3</th>\n",
       "      <td>15893</td>\n",
       "      <td>50</td>\n",
       "      <td>banaras</td>\n",
       "    </tr>\n",
       "  </tbody>\n",
       "</table>\n",
       "</div>"
      ],
      "text/plain": [
       "   Train no.  speed      city\n",
       "0      11232     45    rampur\n",
       "1      12534     34   kolkata\n",
       "2      92847     24  bareilly\n",
       "3      15893     50   banaras"
      ]
     },
     "execution_count": 10,
     "metadata": {},
     "output_type": "execute_result"
    }
   ],
   "source": [
    "train"
   ]
  },
  {
   "cell_type": "code",
   "execution_count": 11,
   "id": "1771364b-ee9b-45da-9204-7a8f7677b4bc",
   "metadata": {},
   "outputs": [
    {
     "data": {
      "text/plain": [
       "0    45\n",
       "1    34\n",
       "2    24\n",
       "3    50\n",
       "Name: speed, dtype: int64"
      ]
     },
     "execution_count": 11,
     "metadata": {},
     "output_type": "execute_result"
    }
   ],
   "source": [
    "train['speed']"
   ]
  },
  {
   "cell_type": "code",
   "execution_count": 12,
   "id": "095b1032-8986-42f9-8589-8566b7757626",
   "metadata": {},
   "outputs": [
    {
     "data": {
      "text/plain": [
       "0      rampur\n",
       "1     kolkata\n",
       "2    bareilly\n",
       "3     banaras\n",
       "Name: city, dtype: object"
      ]
     },
     "execution_count": 12,
     "metadata": {},
     "output_type": "execute_result"
    }
   ],
   "source": [
    "train['city']"
   ]
  },
  {
   "cell_type": "code",
   "execution_count": 13,
   "id": "67ceb94a-b364-44e5-9a5e-92031643fa14",
   "metadata": {},
   "outputs": [
    {
     "data": {
      "text/plain": [
       "34"
      ]
     },
     "execution_count": 13,
     "metadata": {},
     "output_type": "execute_result"
    }
   ],
   "source": [
    "train['speed'][1]"
   ]
  },
  {
   "cell_type": "code",
   "execution_count": 14,
   "id": "142a9a7b-fd39-45b0-b724-51cd1b676cac",
   "metadata": {},
   "outputs": [
    {
     "name": "stderr",
     "output_type": "stream",
     "text": [
      "C:\\Users\\Dell\\AppData\\Local\\Temp\\ipykernel_31844\\3063939717.py:1: SettingWithCopyWarning: \n",
      "A value is trying to be set on a copy of a slice from a DataFrame\n",
      "\n",
      "See the caveats in the documentation: https://pandas.pydata.org/pandas-docs/stable/user_guide/indexing.html#returning-a-view-versus-a-copy\n",
      "  train['speed'][1] = 50\n"
     ]
    }
   ],
   "source": [
    "train['speed'][1] = 50"
   ]
  },
  {
   "cell_type": "code",
   "execution_count": 15,
   "id": "e189266e-c2e6-4d47-a35f-51204a4e7218",
   "metadata": {},
   "outputs": [
    {
     "data": {
      "text/plain": [
       "50"
      ]
     },
     "execution_count": 15,
     "metadata": {},
     "output_type": "execute_result"
    }
   ],
   "source": [
    "train['speed'][1]"
   ]
  },
  {
   "cell_type": "code",
   "execution_count": 16,
   "id": "00af58d4-1499-4ac7-aef4-80d4f5e35726",
   "metadata": {},
   "outputs": [],
   "source": [
    "train.to_csv('train1.csv')"
   ]
  },
  {
   "cell_type": "code",
   "execution_count": 17,
   "id": "77318e36-54a2-41ae-9037-afd112615144",
   "metadata": {},
   "outputs": [],
   "source": [
    "train.index = ['f' , 's' , 't' , 'fo']"
   ]
  },
  {
   "cell_type": "code",
   "execution_count": 18,
   "id": "19e29985-1f42-4c5d-97ec-92946a6fe723",
   "metadata": {},
   "outputs": [
    {
     "data": {
      "text/html": [
       "<div>\n",
       "<style scoped>\n",
       "    .dataframe tbody tr th:only-of-type {\n",
       "        vertical-align: middle;\n",
       "    }\n",
       "\n",
       "    .dataframe tbody tr th {\n",
       "        vertical-align: top;\n",
       "    }\n",
       "\n",
       "    .dataframe thead th {\n",
       "        text-align: right;\n",
       "    }\n",
       "</style>\n",
       "<table border=\"1\" class=\"dataframe\">\n",
       "  <thead>\n",
       "    <tr style=\"text-align: right;\">\n",
       "      <th></th>\n",
       "      <th>Train no.</th>\n",
       "      <th>speed</th>\n",
       "      <th>city</th>\n",
       "    </tr>\n",
       "  </thead>\n",
       "  <tbody>\n",
       "    <tr>\n",
       "      <th>f</th>\n",
       "      <td>11232</td>\n",
       "      <td>45</td>\n",
       "      <td>rampur</td>\n",
       "    </tr>\n",
       "    <tr>\n",
       "      <th>s</th>\n",
       "      <td>12534</td>\n",
       "      <td>50</td>\n",
       "      <td>kolkata</td>\n",
       "    </tr>\n",
       "    <tr>\n",
       "      <th>t</th>\n",
       "      <td>92847</td>\n",
       "      <td>24</td>\n",
       "      <td>bareilly</td>\n",
       "    </tr>\n",
       "    <tr>\n",
       "      <th>fo</th>\n",
       "      <td>15893</td>\n",
       "      <td>50</td>\n",
       "      <td>banaras</td>\n",
       "    </tr>\n",
       "  </tbody>\n",
       "</table>\n",
       "</div>"
      ],
      "text/plain": [
       "    Train no.  speed      city\n",
       "f       11232     45    rampur\n",
       "s       12534     50   kolkata\n",
       "t       92847     24  bareilly\n",
       "fo      15893     50   banaras"
      ]
     },
     "execution_count": 18,
     "metadata": {},
     "output_type": "execute_result"
    }
   ],
   "source": [
    "train"
   ]
  },
  {
   "cell_type": "code",
   "execution_count": 21,
   "id": "635c09ee-efa7-4691-955b-fde41999ff10",
   "metadata": {},
   "outputs": [],
   "source": [
    "series = pd.Series(np.random.rand(34))"
   ]
  },
  {
   "cell_type": "code",
   "execution_count": 22,
   "id": "f65aa93d-9496-47d2-b70d-5c0f76e790fa",
   "metadata": {},
   "outputs": [
    {
     "data": {
      "text/plain": [
       "0     0.918693\n",
       "1     0.487917\n",
       "2     0.378408\n",
       "3     0.115389\n",
       "4     0.243255\n",
       "5     0.837434\n",
       "6     0.643928\n",
       "7     0.833985\n",
       "8     0.814412\n",
       "9     0.981900\n",
       "10    0.793211\n",
       "11    0.429837\n",
       "12    0.382218\n",
       "13    0.681222\n",
       "14    0.073780\n",
       "15    0.065004\n",
       "16    0.613032\n",
       "17    0.081361\n",
       "18    0.472566\n",
       "19    0.787503\n",
       "20    0.131949\n",
       "21    0.672737\n",
       "22    0.103079\n",
       "23    0.487781\n",
       "24    0.341549\n",
       "25    0.953664\n",
       "26    0.293267\n",
       "27    0.586302\n",
       "28    0.088333\n",
       "29    0.161569\n",
       "30    0.062515\n",
       "31    0.955265\n",
       "32    0.733924\n",
       "33    0.485052\n",
       "dtype: float64"
      ]
     },
     "execution_count": 22,
     "metadata": {},
     "output_type": "execute_result"
    }
   ],
   "source": [
    "series"
   ]
  },
  {
   "cell_type": "code",
   "execution_count": 23,
   "id": "504d53a3-886a-4de5-b121-a7d38fe2174d",
   "metadata": {},
   "outputs": [
    {
     "data": {
      "text/plain": [
       "pandas.core.series.Series"
      ]
     },
     "execution_count": 23,
     "metadata": {},
     "output_type": "execute_result"
    }
   ],
   "source": [
    "type(series)"
   ]
  },
  {
   "cell_type": "code",
   "execution_count": 48,
   "id": "fe29f33f-b186-4779-838b-55f77763b8ab",
   "metadata": {},
   "outputs": [],
   "source": [
    "df1 = pd.DataFrame(np.random.rand(8,5), index = np.arange(8))"
   ]
  },
  {
   "cell_type": "code",
   "execution_count": 49,
   "id": "e7179e07-4eef-404e-9af9-b270312c76df",
   "metadata": {},
   "outputs": [
    {
     "data": {
      "text/html": [
       "<div>\n",
       "<style scoped>\n",
       "    .dataframe tbody tr th:only-of-type {\n",
       "        vertical-align: middle;\n",
       "    }\n",
       "\n",
       "    .dataframe tbody tr th {\n",
       "        vertical-align: top;\n",
       "    }\n",
       "\n",
       "    .dataframe thead th {\n",
       "        text-align: right;\n",
       "    }\n",
       "</style>\n",
       "<table border=\"1\" class=\"dataframe\">\n",
       "  <thead>\n",
       "    <tr style=\"text-align: right;\">\n",
       "      <th></th>\n",
       "      <th>0</th>\n",
       "      <th>1</th>\n",
       "      <th>2</th>\n",
       "      <th>3</th>\n",
       "      <th>4</th>\n",
       "    </tr>\n",
       "  </thead>\n",
       "  <tbody>\n",
       "    <tr>\n",
       "      <th>0</th>\n",
       "      <td>0.071554</td>\n",
       "      <td>0.504856</td>\n",
       "      <td>0.229940</td>\n",
       "      <td>0.278598</td>\n",
       "      <td>0.352589</td>\n",
       "    </tr>\n",
       "    <tr>\n",
       "      <th>1</th>\n",
       "      <td>0.499355</td>\n",
       "      <td>0.132597</td>\n",
       "      <td>0.025128</td>\n",
       "      <td>0.768851</td>\n",
       "      <td>0.509203</td>\n",
       "    </tr>\n",
       "    <tr>\n",
       "      <th>2</th>\n",
       "      <td>0.650709</td>\n",
       "      <td>0.736849</td>\n",
       "      <td>0.391800</td>\n",
       "      <td>0.104616</td>\n",
       "      <td>0.746906</td>\n",
       "    </tr>\n",
       "    <tr>\n",
       "      <th>3</th>\n",
       "      <td>0.599674</td>\n",
       "      <td>0.570605</td>\n",
       "      <td>0.221078</td>\n",
       "      <td>0.321030</td>\n",
       "      <td>0.623730</td>\n",
       "    </tr>\n",
       "    <tr>\n",
       "      <th>4</th>\n",
       "      <td>0.213762</td>\n",
       "      <td>0.934910</td>\n",
       "      <td>0.009412</td>\n",
       "      <td>0.332479</td>\n",
       "      <td>0.686547</td>\n",
       "    </tr>\n",
       "    <tr>\n",
       "      <th>5</th>\n",
       "      <td>0.986263</td>\n",
       "      <td>0.067386</td>\n",
       "      <td>0.449672</td>\n",
       "      <td>0.577783</td>\n",
       "      <td>0.732424</td>\n",
       "    </tr>\n",
       "    <tr>\n",
       "      <th>6</th>\n",
       "      <td>0.021590</td>\n",
       "      <td>0.614747</td>\n",
       "      <td>0.186360</td>\n",
       "      <td>0.550621</td>\n",
       "      <td>0.342377</td>\n",
       "    </tr>\n",
       "    <tr>\n",
       "      <th>7</th>\n",
       "      <td>0.389093</td>\n",
       "      <td>0.529743</td>\n",
       "      <td>0.247994</td>\n",
       "      <td>0.883347</td>\n",
       "      <td>0.817255</td>\n",
       "    </tr>\n",
       "  </tbody>\n",
       "</table>\n",
       "</div>"
      ],
      "text/plain": [
       "          0         1         2         3         4\n",
       "0  0.071554  0.504856  0.229940  0.278598  0.352589\n",
       "1  0.499355  0.132597  0.025128  0.768851  0.509203\n",
       "2  0.650709  0.736849  0.391800  0.104616  0.746906\n",
       "3  0.599674  0.570605  0.221078  0.321030  0.623730\n",
       "4  0.213762  0.934910  0.009412  0.332479  0.686547\n",
       "5  0.986263  0.067386  0.449672  0.577783  0.732424\n",
       "6  0.021590  0.614747  0.186360  0.550621  0.342377\n",
       "7  0.389093  0.529743  0.247994  0.883347  0.817255"
      ]
     },
     "execution_count": 49,
     "metadata": {},
     "output_type": "execute_result"
    }
   ],
   "source": [
    "df1"
   ]
  },
  {
   "cell_type": "code",
   "execution_count": 50,
   "id": "5559a52c-1924-4fec-94c2-aa4398d25926",
   "metadata": {},
   "outputs": [
    {
     "data": {
      "text/plain": [
       "pandas.core.frame.DataFrame"
      ]
     },
     "execution_count": 50,
     "metadata": {},
     "output_type": "execute_result"
    }
   ],
   "source": [
    "type(df1)"
   ]
  },
  {
   "cell_type": "code",
   "execution_count": 51,
   "id": "de441b28-f55e-4d2b-9b7b-e4881a834159",
   "metadata": {},
   "outputs": [],
   "source": [
    " df1[0][0] = 1"
   ]
  },
  {
   "cell_type": "code",
   "execution_count": 52,
   "id": "e8ebb0df-15a6-48e6-b63b-3b503583aba6",
   "metadata": {},
   "outputs": [
    {
     "data": {
      "text/html": [
       "<div>\n",
       "<style scoped>\n",
       "    .dataframe tbody tr th:only-of-type {\n",
       "        vertical-align: middle;\n",
       "    }\n",
       "\n",
       "    .dataframe tbody tr th {\n",
       "        vertical-align: top;\n",
       "    }\n",
       "\n",
       "    .dataframe thead th {\n",
       "        text-align: right;\n",
       "    }\n",
       "</style>\n",
       "<table border=\"1\" class=\"dataframe\">\n",
       "  <thead>\n",
       "    <tr style=\"text-align: right;\">\n",
       "      <th></th>\n",
       "      <th>0</th>\n",
       "      <th>1</th>\n",
       "      <th>2</th>\n",
       "      <th>3</th>\n",
       "      <th>4</th>\n",
       "    </tr>\n",
       "  </thead>\n",
       "  <tbody>\n",
       "    <tr>\n",
       "      <th>0</th>\n",
       "      <td>1.000000</td>\n",
       "      <td>0.504856</td>\n",
       "      <td>0.229940</td>\n",
       "      <td>0.278598</td>\n",
       "      <td>0.352589</td>\n",
       "    </tr>\n",
       "    <tr>\n",
       "      <th>1</th>\n",
       "      <td>0.499355</td>\n",
       "      <td>0.132597</td>\n",
       "      <td>0.025128</td>\n",
       "      <td>0.768851</td>\n",
       "      <td>0.509203</td>\n",
       "    </tr>\n",
       "    <tr>\n",
       "      <th>2</th>\n",
       "      <td>0.650709</td>\n",
       "      <td>0.736849</td>\n",
       "      <td>0.391800</td>\n",
       "      <td>0.104616</td>\n",
       "      <td>0.746906</td>\n",
       "    </tr>\n",
       "    <tr>\n",
       "      <th>3</th>\n",
       "      <td>0.599674</td>\n",
       "      <td>0.570605</td>\n",
       "      <td>0.221078</td>\n",
       "      <td>0.321030</td>\n",
       "      <td>0.623730</td>\n",
       "    </tr>\n",
       "    <tr>\n",
       "      <th>4</th>\n",
       "      <td>0.213762</td>\n",
       "      <td>0.934910</td>\n",
       "      <td>0.009412</td>\n",
       "      <td>0.332479</td>\n",
       "      <td>0.686547</td>\n",
       "    </tr>\n",
       "    <tr>\n",
       "      <th>5</th>\n",
       "      <td>0.986263</td>\n",
       "      <td>0.067386</td>\n",
       "      <td>0.449672</td>\n",
       "      <td>0.577783</td>\n",
       "      <td>0.732424</td>\n",
       "    </tr>\n",
       "    <tr>\n",
       "      <th>6</th>\n",
       "      <td>0.021590</td>\n",
       "      <td>0.614747</td>\n",
       "      <td>0.186360</td>\n",
       "      <td>0.550621</td>\n",
       "      <td>0.342377</td>\n",
       "    </tr>\n",
       "    <tr>\n",
       "      <th>7</th>\n",
       "      <td>0.389093</td>\n",
       "      <td>0.529743</td>\n",
       "      <td>0.247994</td>\n",
       "      <td>0.883347</td>\n",
       "      <td>0.817255</td>\n",
       "    </tr>\n",
       "  </tbody>\n",
       "</table>\n",
       "</div>"
      ],
      "text/plain": [
       "          0         1         2         3         4\n",
       "0  1.000000  0.504856  0.229940  0.278598  0.352589\n",
       "1  0.499355  0.132597  0.025128  0.768851  0.509203\n",
       "2  0.650709  0.736849  0.391800  0.104616  0.746906\n",
       "3  0.599674  0.570605  0.221078  0.321030  0.623730\n",
       "4  0.213762  0.934910  0.009412  0.332479  0.686547\n",
       "5  0.986263  0.067386  0.449672  0.577783  0.732424\n",
       "6  0.021590  0.614747  0.186360  0.550621  0.342377\n",
       "7  0.389093  0.529743  0.247994  0.883347  0.817255"
      ]
     },
     "execution_count": 52,
     "metadata": {},
     "output_type": "execute_result"
    }
   ],
   "source": [
    "df1"
   ]
  },
  {
   "cell_type": "code",
   "execution_count": 54,
   "id": "672fc77a-1ba8-42eb-a0a0-4defc691476b",
   "metadata": {},
   "outputs": [],
   "source": [
    "df1[0][1] = 'harry'"
   ]
  },
  {
   "cell_type": "code",
   "execution_count": 55,
   "id": "5ee23fa0-32d3-4a6b-9397-e60ccb099d8d",
   "metadata": {},
   "outputs": [
    {
     "data": {
      "text/html": [
       "<div>\n",
       "<style scoped>\n",
       "    .dataframe tbody tr th:only-of-type {\n",
       "        vertical-align: middle;\n",
       "    }\n",
       "\n",
       "    .dataframe tbody tr th {\n",
       "        vertical-align: top;\n",
       "    }\n",
       "\n",
       "    .dataframe thead th {\n",
       "        text-align: right;\n",
       "    }\n",
       "</style>\n",
       "<table border=\"1\" class=\"dataframe\">\n",
       "  <thead>\n",
       "    <tr style=\"text-align: right;\">\n",
       "      <th></th>\n",
       "      <th>0</th>\n",
       "      <th>1</th>\n",
       "      <th>2</th>\n",
       "      <th>3</th>\n",
       "      <th>4</th>\n",
       "    </tr>\n",
       "  </thead>\n",
       "  <tbody>\n",
       "    <tr>\n",
       "      <th>0</th>\n",
       "      <td>1.0</td>\n",
       "      <td>0.504856</td>\n",
       "      <td>0.229940</td>\n",
       "      <td>0.278598</td>\n",
       "      <td>0.352589</td>\n",
       "    </tr>\n",
       "    <tr>\n",
       "      <th>1</th>\n",
       "      <td>harry</td>\n",
       "      <td>0.132597</td>\n",
       "      <td>0.025128</td>\n",
       "      <td>0.768851</td>\n",
       "      <td>0.509203</td>\n",
       "    </tr>\n",
       "    <tr>\n",
       "      <th>2</th>\n",
       "      <td>0.650709</td>\n",
       "      <td>0.736849</td>\n",
       "      <td>0.391800</td>\n",
       "      <td>0.104616</td>\n",
       "      <td>0.746906</td>\n",
       "    </tr>\n",
       "    <tr>\n",
       "      <th>3</th>\n",
       "      <td>0.599674</td>\n",
       "      <td>0.570605</td>\n",
       "      <td>0.221078</td>\n",
       "      <td>0.321030</td>\n",
       "      <td>0.623730</td>\n",
       "    </tr>\n",
       "    <tr>\n",
       "      <th>4</th>\n",
       "      <td>0.213762</td>\n",
       "      <td>0.934910</td>\n",
       "      <td>0.009412</td>\n",
       "      <td>0.332479</td>\n",
       "      <td>0.686547</td>\n",
       "    </tr>\n",
       "    <tr>\n",
       "      <th>5</th>\n",
       "      <td>0.986263</td>\n",
       "      <td>0.067386</td>\n",
       "      <td>0.449672</td>\n",
       "      <td>0.577783</td>\n",
       "      <td>0.732424</td>\n",
       "    </tr>\n",
       "    <tr>\n",
       "      <th>6</th>\n",
       "      <td>0.02159</td>\n",
       "      <td>0.614747</td>\n",
       "      <td>0.186360</td>\n",
       "      <td>0.550621</td>\n",
       "      <td>0.342377</td>\n",
       "    </tr>\n",
       "    <tr>\n",
       "      <th>7</th>\n",
       "      <td>0.389093</td>\n",
       "      <td>0.529743</td>\n",
       "      <td>0.247994</td>\n",
       "      <td>0.883347</td>\n",
       "      <td>0.817255</td>\n",
       "    </tr>\n",
       "  </tbody>\n",
       "</table>\n",
       "</div>"
      ],
      "text/plain": [
       "          0         1         2         3         4\n",
       "0       1.0  0.504856  0.229940  0.278598  0.352589\n",
       "1     harry  0.132597  0.025128  0.768851  0.509203\n",
       "2  0.650709  0.736849  0.391800  0.104616  0.746906\n",
       "3  0.599674  0.570605  0.221078  0.321030  0.623730\n",
       "4  0.213762  0.934910  0.009412  0.332479  0.686547\n",
       "5  0.986263  0.067386  0.449672  0.577783  0.732424\n",
       "6   0.02159  0.614747  0.186360  0.550621  0.342377\n",
       "7  0.389093  0.529743  0.247994  0.883347  0.817255"
      ]
     },
     "execution_count": 55,
     "metadata": {},
     "output_type": "execute_result"
    }
   ],
   "source": [
    "df1"
   ]
  },
  {
   "cell_type": "code",
   "execution_count": 56,
   "id": "36609b92-80fb-4623-bafa-bfa9e36cf486",
   "metadata": {},
   "outputs": [
    {
     "data": {
      "text/plain": [
       "str"
      ]
     },
     "execution_count": 56,
     "metadata": {},
     "output_type": "execute_result"
    }
   ],
   "source": [
    "type(df1[0][1])"
   ]
  },
  {
   "cell_type": "code",
   "execution_count": 57,
   "id": "449bea5e-6191-4c6c-b49c-2b789458e51f",
   "metadata": {},
   "outputs": [
    {
     "data": {
      "text/plain": [
       "Index([0, 1, 2, 3, 4, 5, 6, 7], dtype='int32')"
      ]
     },
     "execution_count": 57,
     "metadata": {},
     "output_type": "execute_result"
    }
   ],
   "source": [
    "df1.index"
   ]
  },
  {
   "cell_type": "code",
   "execution_count": 58,
   "id": "3f1a4175-bf52-421d-81af-8c0b907d0b2c",
   "metadata": {},
   "outputs": [
    {
     "data": {
      "text/plain": [
       "RangeIndex(start=0, stop=5, step=1)"
      ]
     },
     "execution_count": 58,
     "metadata": {},
     "output_type": "execute_result"
    }
   ],
   "source": [
    "df1.columns"
   ]
  },
  {
   "cell_type": "code",
   "execution_count": 59,
   "id": "b7a7006c-821e-47dd-9948-3906bedc9717",
   "metadata": {},
   "outputs": [
    {
     "data": {
      "text/plain": [
       "array([[1.0, 0.5048556673401294, 0.2299396012772923, 0.2785984249256305,\n",
       "        0.35258890041426605],\n",
       "       ['harry', 0.13259686475226917, 0.025127773843339973,\n",
       "        0.7688505047112801, 0.5092027725417463],\n",
       "       [0.6507086384515384, 0.7368485339888056, 0.39180007420746177,\n",
       "        0.1046158651912128, 0.7469060452334403],\n",
       "       [0.5996737368657717, 0.5706053490304726, 0.22107804431454758,\n",
       "        0.3210300283016415, 0.6237303412521551],\n",
       "       [0.21376207521906854, 0.9349095743840243, 0.009412216001088214,\n",
       "        0.3324785502677161, 0.6865474256826809],\n",
       "       [0.9862634137226306, 0.06738609153402242, 0.44967198838242173,\n",
       "        0.5777831462447393, 0.7324243673184121],\n",
       "       [0.021589942775057658, 0.6147472213357408, 0.18635992042741967,\n",
       "        0.5506206061242186, 0.3423772560044739],\n",
       "       [0.3890930848038624, 0.5297427873868451, 0.2479938747706114,\n",
       "        0.8833468369206519, 0.8172549087074581]], dtype=object)"
      ]
     },
     "execution_count": 59,
     "metadata": {},
     "output_type": "execute_result"
    }
   ],
   "source": [
    "df1.to_numpy()"
   ]
  },
  {
   "cell_type": "code",
   "execution_count": 60,
   "id": "f7a70380-eb75-40f0-b772-05aa0277fb90",
   "metadata": {},
   "outputs": [],
   "source": [
    "df1[0][1] = 2"
   ]
  },
  {
   "cell_type": "code",
   "execution_count": 61,
   "id": "872c7147-9f91-4f62-87f8-ce6ab7759847",
   "metadata": {},
   "outputs": [
    {
     "data": {
      "text/html": [
       "<div>\n",
       "<style scoped>\n",
       "    .dataframe tbody tr th:only-of-type {\n",
       "        vertical-align: middle;\n",
       "    }\n",
       "\n",
       "    .dataframe tbody tr th {\n",
       "        vertical-align: top;\n",
       "    }\n",
       "\n",
       "    .dataframe thead th {\n",
       "        text-align: right;\n",
       "    }\n",
       "</style>\n",
       "<table border=\"1\" class=\"dataframe\">\n",
       "  <thead>\n",
       "    <tr style=\"text-align: right;\">\n",
       "      <th></th>\n",
       "      <th>0</th>\n",
       "      <th>1</th>\n",
       "      <th>2</th>\n",
       "      <th>3</th>\n",
       "      <th>4</th>\n",
       "    </tr>\n",
       "  </thead>\n",
       "  <tbody>\n",
       "    <tr>\n",
       "      <th>0</th>\n",
       "      <td>1.0</td>\n",
       "      <td>0.504856</td>\n",
       "      <td>0.229940</td>\n",
       "      <td>0.278598</td>\n",
       "      <td>0.352589</td>\n",
       "    </tr>\n",
       "    <tr>\n",
       "      <th>1</th>\n",
       "      <td>2</td>\n",
       "      <td>0.132597</td>\n",
       "      <td>0.025128</td>\n",
       "      <td>0.768851</td>\n",
       "      <td>0.509203</td>\n",
       "    </tr>\n",
       "    <tr>\n",
       "      <th>2</th>\n",
       "      <td>0.650709</td>\n",
       "      <td>0.736849</td>\n",
       "      <td>0.391800</td>\n",
       "      <td>0.104616</td>\n",
       "      <td>0.746906</td>\n",
       "    </tr>\n",
       "    <tr>\n",
       "      <th>3</th>\n",
       "      <td>0.599674</td>\n",
       "      <td>0.570605</td>\n",
       "      <td>0.221078</td>\n",
       "      <td>0.321030</td>\n",
       "      <td>0.623730</td>\n",
       "    </tr>\n",
       "    <tr>\n",
       "      <th>4</th>\n",
       "      <td>0.213762</td>\n",
       "      <td>0.934910</td>\n",
       "      <td>0.009412</td>\n",
       "      <td>0.332479</td>\n",
       "      <td>0.686547</td>\n",
       "    </tr>\n",
       "    <tr>\n",
       "      <th>5</th>\n",
       "      <td>0.986263</td>\n",
       "      <td>0.067386</td>\n",
       "      <td>0.449672</td>\n",
       "      <td>0.577783</td>\n",
       "      <td>0.732424</td>\n",
       "    </tr>\n",
       "    <tr>\n",
       "      <th>6</th>\n",
       "      <td>0.02159</td>\n",
       "      <td>0.614747</td>\n",
       "      <td>0.186360</td>\n",
       "      <td>0.550621</td>\n",
       "      <td>0.342377</td>\n",
       "    </tr>\n",
       "    <tr>\n",
       "      <th>7</th>\n",
       "      <td>0.389093</td>\n",
       "      <td>0.529743</td>\n",
       "      <td>0.247994</td>\n",
       "      <td>0.883347</td>\n",
       "      <td>0.817255</td>\n",
       "    </tr>\n",
       "  </tbody>\n",
       "</table>\n",
       "</div>"
      ],
      "text/plain": [
       "          0         1         2         3         4\n",
       "0       1.0  0.504856  0.229940  0.278598  0.352589\n",
       "1         2  0.132597  0.025128  0.768851  0.509203\n",
       "2  0.650709  0.736849  0.391800  0.104616  0.746906\n",
       "3  0.599674  0.570605  0.221078  0.321030  0.623730\n",
       "4  0.213762  0.934910  0.009412  0.332479  0.686547\n",
       "5  0.986263  0.067386  0.449672  0.577783  0.732424\n",
       "6   0.02159  0.614747  0.186360  0.550621  0.342377\n",
       "7  0.389093  0.529743  0.247994  0.883347  0.817255"
      ]
     },
     "execution_count": 61,
     "metadata": {},
     "output_type": "execute_result"
    }
   ],
   "source": [
    "df1"
   ]
  },
  {
   "cell_type": "code",
   "execution_count": 62,
   "id": "85dc604e-2d1f-4332-9101-d60cf78b57ba",
   "metadata": {},
   "outputs": [
    {
     "data": {
      "text/plain": [
       "array([[1.0, 0.5048556673401294, 0.2299396012772923, 0.2785984249256305,\n",
       "        0.35258890041426605],\n",
       "       [2, 0.13259686475226917, 0.025127773843339973, 0.7688505047112801,\n",
       "        0.5092027725417463],\n",
       "       [0.6507086384515384, 0.7368485339888056, 0.39180007420746177,\n",
       "        0.1046158651912128, 0.7469060452334403],\n",
       "       [0.5996737368657717, 0.5706053490304726, 0.22107804431454758,\n",
       "        0.3210300283016415, 0.6237303412521551],\n",
       "       [0.21376207521906854, 0.9349095743840243, 0.009412216001088214,\n",
       "        0.3324785502677161, 0.6865474256826809],\n",
       "       [0.9862634137226306, 0.06738609153402242, 0.44967198838242173,\n",
       "        0.5777831462447393, 0.7324243673184121],\n",
       "       [0.021589942775057658, 0.6147472213357408, 0.18635992042741967,\n",
       "        0.5506206061242186, 0.3423772560044739],\n",
       "       [0.3890930848038624, 0.5297427873868451, 0.2479938747706114,\n",
       "        0.8833468369206519, 0.8172549087074581]], dtype=object)"
      ]
     },
     "execution_count": 62,
     "metadata": {},
     "output_type": "execute_result"
    }
   ],
   "source": [
    "df1.to_numpy()"
   ]
  },
  {
   "cell_type": "code",
   "execution_count": 63,
   "id": "486dddc9-4488-48b6-9318-36cd9faa7ea9",
   "metadata": {},
   "outputs": [
    {
     "data": {
      "text/html": [
       "<div>\n",
       "<style scoped>\n",
       "    .dataframe tbody tr th:only-of-type {\n",
       "        vertical-align: middle;\n",
       "    }\n",
       "\n",
       "    .dataframe tbody tr th {\n",
       "        vertical-align: top;\n",
       "    }\n",
       "\n",
       "    .dataframe thead th {\n",
       "        text-align: right;\n",
       "    }\n",
       "</style>\n",
       "<table border=\"1\" class=\"dataframe\">\n",
       "  <thead>\n",
       "    <tr style=\"text-align: right;\">\n",
       "      <th></th>\n",
       "      <th>0</th>\n",
       "      <th>1</th>\n",
       "      <th>2</th>\n",
       "      <th>3</th>\n",
       "      <th>4</th>\n",
       "      <th>5</th>\n",
       "      <th>6</th>\n",
       "      <th>7</th>\n",
       "    </tr>\n",
       "  </thead>\n",
       "  <tbody>\n",
       "    <tr>\n",
       "      <th>0</th>\n",
       "      <td>1.0</td>\n",
       "      <td>2</td>\n",
       "      <td>0.650709</td>\n",
       "      <td>0.599674</td>\n",
       "      <td>0.213762</td>\n",
       "      <td>0.986263</td>\n",
       "      <td>0.02159</td>\n",
       "      <td>0.389093</td>\n",
       "    </tr>\n",
       "    <tr>\n",
       "      <th>1</th>\n",
       "      <td>0.504856</td>\n",
       "      <td>0.132597</td>\n",
       "      <td>0.736849</td>\n",
       "      <td>0.570605</td>\n",
       "      <td>0.93491</td>\n",
       "      <td>0.067386</td>\n",
       "      <td>0.614747</td>\n",
       "      <td>0.529743</td>\n",
       "    </tr>\n",
       "    <tr>\n",
       "      <th>2</th>\n",
       "      <td>0.22994</td>\n",
       "      <td>0.025128</td>\n",
       "      <td>0.3918</td>\n",
       "      <td>0.221078</td>\n",
       "      <td>0.009412</td>\n",
       "      <td>0.449672</td>\n",
       "      <td>0.18636</td>\n",
       "      <td>0.247994</td>\n",
       "    </tr>\n",
       "    <tr>\n",
       "      <th>3</th>\n",
       "      <td>0.278598</td>\n",
       "      <td>0.768851</td>\n",
       "      <td>0.104616</td>\n",
       "      <td>0.32103</td>\n",
       "      <td>0.332479</td>\n",
       "      <td>0.577783</td>\n",
       "      <td>0.550621</td>\n",
       "      <td>0.883347</td>\n",
       "    </tr>\n",
       "    <tr>\n",
       "      <th>4</th>\n",
       "      <td>0.352589</td>\n",
       "      <td>0.509203</td>\n",
       "      <td>0.746906</td>\n",
       "      <td>0.62373</td>\n",
       "      <td>0.686547</td>\n",
       "      <td>0.732424</td>\n",
       "      <td>0.342377</td>\n",
       "      <td>0.817255</td>\n",
       "    </tr>\n",
       "  </tbody>\n",
       "</table>\n",
       "</div>"
      ],
      "text/plain": [
       "          0         1         2         3         4         5         6  \\\n",
       "0       1.0         2  0.650709  0.599674  0.213762  0.986263   0.02159   \n",
       "1  0.504856  0.132597  0.736849  0.570605   0.93491  0.067386  0.614747   \n",
       "2   0.22994  0.025128    0.3918  0.221078  0.009412  0.449672   0.18636   \n",
       "3  0.278598  0.768851  0.104616   0.32103  0.332479  0.577783  0.550621   \n",
       "4  0.352589  0.509203  0.746906   0.62373  0.686547  0.732424  0.342377   \n",
       "\n",
       "          7  \n",
       "0  0.389093  \n",
       "1  0.529743  \n",
       "2  0.247994  \n",
       "3  0.883347  \n",
       "4  0.817255  "
      ]
     },
     "execution_count": 63,
     "metadata": {},
     "output_type": "execute_result"
    }
   ],
   "source": [
    "df1.T"
   ]
  },
  {
   "cell_type": "code",
   "execution_count": 65,
   "id": "15f4e033-2203-4813-928c-1d9a88e3e4d6",
   "metadata": {},
   "outputs": [
    {
     "data": {
      "text/html": [
       "<div>\n",
       "<style scoped>\n",
       "    .dataframe tbody tr th:only-of-type {\n",
       "        vertical-align: middle;\n",
       "    }\n",
       "\n",
       "    .dataframe tbody tr th {\n",
       "        vertical-align: top;\n",
       "    }\n",
       "\n",
       "    .dataframe thead th {\n",
       "        text-align: right;\n",
       "    }\n",
       "</style>\n",
       "<table border=\"1\" class=\"dataframe\">\n",
       "  <thead>\n",
       "    <tr style=\"text-align: right;\">\n",
       "      <th></th>\n",
       "      <th>4</th>\n",
       "      <th>3</th>\n",
       "      <th>2</th>\n",
       "      <th>1</th>\n",
       "      <th>0</th>\n",
       "    </tr>\n",
       "  </thead>\n",
       "  <tbody>\n",
       "    <tr>\n",
       "      <th>0</th>\n",
       "      <td>0.352589</td>\n",
       "      <td>0.278598</td>\n",
       "      <td>0.229940</td>\n",
       "      <td>0.504856</td>\n",
       "      <td>1.0</td>\n",
       "    </tr>\n",
       "    <tr>\n",
       "      <th>1</th>\n",
       "      <td>0.509203</td>\n",
       "      <td>0.768851</td>\n",
       "      <td>0.025128</td>\n",
       "      <td>0.132597</td>\n",
       "      <td>2</td>\n",
       "    </tr>\n",
       "    <tr>\n",
       "      <th>2</th>\n",
       "      <td>0.746906</td>\n",
       "      <td>0.104616</td>\n",
       "      <td>0.391800</td>\n",
       "      <td>0.736849</td>\n",
       "      <td>0.650709</td>\n",
       "    </tr>\n",
       "    <tr>\n",
       "      <th>3</th>\n",
       "      <td>0.623730</td>\n",
       "      <td>0.321030</td>\n",
       "      <td>0.221078</td>\n",
       "      <td>0.570605</td>\n",
       "      <td>0.599674</td>\n",
       "    </tr>\n",
       "    <tr>\n",
       "      <th>4</th>\n",
       "      <td>0.686547</td>\n",
       "      <td>0.332479</td>\n",
       "      <td>0.009412</td>\n",
       "      <td>0.934910</td>\n",
       "      <td>0.213762</td>\n",
       "    </tr>\n",
       "    <tr>\n",
       "      <th>5</th>\n",
       "      <td>0.732424</td>\n",
       "      <td>0.577783</td>\n",
       "      <td>0.449672</td>\n",
       "      <td>0.067386</td>\n",
       "      <td>0.986263</td>\n",
       "    </tr>\n",
       "    <tr>\n",
       "      <th>6</th>\n",
       "      <td>0.342377</td>\n",
       "      <td>0.550621</td>\n",
       "      <td>0.186360</td>\n",
       "      <td>0.614747</td>\n",
       "      <td>0.02159</td>\n",
       "    </tr>\n",
       "    <tr>\n",
       "      <th>7</th>\n",
       "      <td>0.817255</td>\n",
       "      <td>0.883347</td>\n",
       "      <td>0.247994</td>\n",
       "      <td>0.529743</td>\n",
       "      <td>0.389093</td>\n",
       "    </tr>\n",
       "  </tbody>\n",
       "</table>\n",
       "</div>"
      ],
      "text/plain": [
       "          4         3         2         1         0\n",
       "0  0.352589  0.278598  0.229940  0.504856       1.0\n",
       "1  0.509203  0.768851  0.025128  0.132597         2\n",
       "2  0.746906  0.104616  0.391800  0.736849  0.650709\n",
       "3  0.623730  0.321030  0.221078  0.570605  0.599674\n",
       "4  0.686547  0.332479  0.009412  0.934910  0.213762\n",
       "5  0.732424  0.577783  0.449672  0.067386  0.986263\n",
       "6  0.342377  0.550621  0.186360  0.614747   0.02159\n",
       "7  0.817255  0.883347  0.247994  0.529743  0.389093"
      ]
     },
     "execution_count": 65,
     "metadata": {},
     "output_type": "execute_result"
    }
   ],
   "source": [
    "df1.sort_index(axis = 1, ascending=False)## here axis = 0 is for row and axis = 1 is for columns and by default the ascending is true."
   ]
  },
  {
   "cell_type": "code",
   "execution_count": null,
   "id": "22b0d5a8-0c82-426c-b1ae-051617fc499d",
   "metadata": {},
   "outputs": [],
   "source": []
  },
  {
   "cell_type": "code",
   "execution_count": 66,
   "id": "a708a36c-f69a-4ea2-80ca-d130e84bce7f",
   "metadata": {},
   "outputs": [
    {
     "data": {
      "text/html": [
       "<div>\n",
       "<style scoped>\n",
       "    .dataframe tbody tr th:only-of-type {\n",
       "        vertical-align: middle;\n",
       "    }\n",
       "\n",
       "    .dataframe tbody tr th {\n",
       "        vertical-align: top;\n",
       "    }\n",
       "\n",
       "    .dataframe thead th {\n",
       "        text-align: right;\n",
       "    }\n",
       "</style>\n",
       "<table border=\"1\" class=\"dataframe\">\n",
       "  <thead>\n",
       "    <tr style=\"text-align: right;\">\n",
       "      <th></th>\n",
       "      <th>0</th>\n",
       "      <th>1</th>\n",
       "      <th>2</th>\n",
       "      <th>3</th>\n",
       "      <th>4</th>\n",
       "    </tr>\n",
       "  </thead>\n",
       "  <tbody>\n",
       "    <tr>\n",
       "      <th>0</th>\n",
       "      <td>1.0</td>\n",
       "      <td>0.504856</td>\n",
       "      <td>0.229940</td>\n",
       "      <td>0.278598</td>\n",
       "      <td>0.352589</td>\n",
       "    </tr>\n",
       "    <tr>\n",
       "      <th>1</th>\n",
       "      <td>2</td>\n",
       "      <td>0.132597</td>\n",
       "      <td>0.025128</td>\n",
       "      <td>0.768851</td>\n",
       "      <td>0.509203</td>\n",
       "    </tr>\n",
       "    <tr>\n",
       "      <th>2</th>\n",
       "      <td>0.650709</td>\n",
       "      <td>0.736849</td>\n",
       "      <td>0.391800</td>\n",
       "      <td>0.104616</td>\n",
       "      <td>0.746906</td>\n",
       "    </tr>\n",
       "    <tr>\n",
       "      <th>3</th>\n",
       "      <td>0.599674</td>\n",
       "      <td>0.570605</td>\n",
       "      <td>0.221078</td>\n",
       "      <td>0.321030</td>\n",
       "      <td>0.623730</td>\n",
       "    </tr>\n",
       "    <tr>\n",
       "      <th>4</th>\n",
       "      <td>0.213762</td>\n",
       "      <td>0.934910</td>\n",
       "      <td>0.009412</td>\n",
       "      <td>0.332479</td>\n",
       "      <td>0.686547</td>\n",
       "    </tr>\n",
       "  </tbody>\n",
       "</table>\n",
       "</div>"
      ],
      "text/plain": [
       "          0         1         2         3         4\n",
       "0       1.0  0.504856  0.229940  0.278598  0.352589\n",
       "1         2  0.132597  0.025128  0.768851  0.509203\n",
       "2  0.650709  0.736849  0.391800  0.104616  0.746906\n",
       "3  0.599674  0.570605  0.221078  0.321030  0.623730\n",
       "4  0.213762  0.934910  0.009412  0.332479  0.686547"
      ]
     },
     "execution_count": 66,
     "metadata": {},
     "output_type": "execute_result"
    }
   ],
   "source": [
    "df1.head()"
   ]
  },
  {
   "cell_type": "code",
   "execution_count": 69,
   "id": "e633fb0d-845b-4b96-8c29-0c69251a680d",
   "metadata": {},
   "outputs": [
    {
     "data": {
      "text/plain": [
       "pandas.core.series.Series"
      ]
     },
     "execution_count": 69,
     "metadata": {},
     "output_type": "execute_result"
    }
   ],
   "source": [
    "type(df1[1])##since it is taken from a dataframe it is proved that dataframe is made from the combinaiton of the series."
   ]
  },
  {
   "cell_type": "code",
   "execution_count": 70,
   "id": "276904f7-6da6-45c9-ae5d-a872be9081bf",
   "metadata": {},
   "outputs": [],
   "source": [
    "## to copy a dataset we can use a name with name[:] or we can use name.copy() function to copy a data set if we use a equal to operator then if we make changes in the original dataset thenn the copies dataset will also be changed"
   ]
  },
  {
   "cell_type": "code",
   "execution_count": 71,
   "id": "fca5f89f-5786-4108-970c-5a42b6f30c18",
   "metadata": {},
   "outputs": [],
   "source": [
    "#for the chaining of the location for example df1[0][0] then this can create a location error in bigdata so instead we use loc function"
   ]
  },
  {
   "cell_type": "code",
   "execution_count": 82,
   "id": "a491b6eb-b3f4-4cee-9ebb-f3eb7a6ed4e1",
   "metadata": {},
   "outputs": [],
   "source": [
    "df1.loc[1,2] = 100"
   ]
  },
  {
   "cell_type": "code",
   "execution_count": 83,
   "id": "5fed4856-2802-4c4a-942c-f06b93b73cd5",
   "metadata": {},
   "outputs": [
    {
     "data": {
      "text/html": [
       "<div>\n",
       "<style scoped>\n",
       "    .dataframe tbody tr th:only-of-type {\n",
       "        vertical-align: middle;\n",
       "    }\n",
       "\n",
       "    .dataframe tbody tr th {\n",
       "        vertical-align: top;\n",
       "    }\n",
       "\n",
       "    .dataframe thead th {\n",
       "        text-align: right;\n",
       "    }\n",
       "</style>\n",
       "<table border=\"1\" class=\"dataframe\">\n",
       "  <thead>\n",
       "    <tr style=\"text-align: right;\">\n",
       "      <th></th>\n",
       "      <th>0</th>\n",
       "      <th>1</th>\n",
       "      <th>2</th>\n",
       "      <th>3</th>\n",
       "      <th>4</th>\n",
       "    </tr>\n",
       "  </thead>\n",
       "  <tbody>\n",
       "    <tr>\n",
       "      <th>0</th>\n",
       "      <td>1.0</td>\n",
       "      <td>100.000000</td>\n",
       "      <td>0.229940</td>\n",
       "      <td>0.278598</td>\n",
       "      <td>0.352589</td>\n",
       "    </tr>\n",
       "    <tr>\n",
       "      <th>1</th>\n",
       "      <td>100</td>\n",
       "      <td>100.000000</td>\n",
       "      <td>100.000000</td>\n",
       "      <td>0.768851</td>\n",
       "      <td>0.509203</td>\n",
       "    </tr>\n",
       "    <tr>\n",
       "      <th>2</th>\n",
       "      <td>0.650709</td>\n",
       "      <td>0.736849</td>\n",
       "      <td>0.391800</td>\n",
       "      <td>0.104616</td>\n",
       "      <td>0.746906</td>\n",
       "    </tr>\n",
       "    <tr>\n",
       "      <th>3</th>\n",
       "      <td>0.599674</td>\n",
       "      <td>0.570605</td>\n",
       "      <td>0.221078</td>\n",
       "      <td>0.321030</td>\n",
       "      <td>0.623730</td>\n",
       "    </tr>\n",
       "    <tr>\n",
       "      <th>4</th>\n",
       "      <td>0.213762</td>\n",
       "      <td>0.934910</td>\n",
       "      <td>0.009412</td>\n",
       "      <td>0.332479</td>\n",
       "      <td>0.686547</td>\n",
       "    </tr>\n",
       "    <tr>\n",
       "      <th>5</th>\n",
       "      <td>0.986263</td>\n",
       "      <td>0.067386</td>\n",
       "      <td>0.449672</td>\n",
       "      <td>0.577783</td>\n",
       "      <td>0.732424</td>\n",
       "    </tr>\n",
       "    <tr>\n",
       "      <th>6</th>\n",
       "      <td>0.02159</td>\n",
       "      <td>0.614747</td>\n",
       "      <td>0.186360</td>\n",
       "      <td>0.550621</td>\n",
       "      <td>0.342377</td>\n",
       "    </tr>\n",
       "    <tr>\n",
       "      <th>7</th>\n",
       "      <td>0.389093</td>\n",
       "      <td>0.529743</td>\n",
       "      <td>0.247994</td>\n",
       "      <td>0.883347</td>\n",
       "      <td>0.817255</td>\n",
       "    </tr>\n",
       "  </tbody>\n",
       "</table>\n",
       "</div>"
      ],
      "text/plain": [
       "          0           1           2         3         4\n",
       "0       1.0  100.000000    0.229940  0.278598  0.352589\n",
       "1       100  100.000000  100.000000  0.768851  0.509203\n",
       "2  0.650709    0.736849    0.391800  0.104616  0.746906\n",
       "3  0.599674    0.570605    0.221078  0.321030  0.623730\n",
       "4  0.213762    0.934910    0.009412  0.332479  0.686547\n",
       "5  0.986263    0.067386    0.449672  0.577783  0.732424\n",
       "6   0.02159    0.614747    0.186360  0.550621  0.342377\n",
       "7  0.389093    0.529743    0.247994  0.883347  0.817255"
      ]
     },
     "execution_count": 83,
     "metadata": {},
     "output_type": "execute_result"
    }
   ],
   "source": [
    "df1"
   ]
  },
  {
   "cell_type": "code",
   "execution_count": 84,
   "id": "6bd86dae-69f3-467d-99f4-310af779c692",
   "metadata": {},
   "outputs": [],
   "source": [
    "df1.columns = list(\"ABCDE\")"
   ]
  },
  {
   "cell_type": "code",
   "execution_count": 85,
   "id": "268653f6-faf5-48bf-b6ac-300c5715c4a2",
   "metadata": {},
   "outputs": [
    {
     "data": {
      "text/html": [
       "<div>\n",
       "<style scoped>\n",
       "    .dataframe tbody tr th:only-of-type {\n",
       "        vertical-align: middle;\n",
       "    }\n",
       "\n",
       "    .dataframe tbody tr th {\n",
       "        vertical-align: top;\n",
       "    }\n",
       "\n",
       "    .dataframe thead th {\n",
       "        text-align: right;\n",
       "    }\n",
       "</style>\n",
       "<table border=\"1\" class=\"dataframe\">\n",
       "  <thead>\n",
       "    <tr style=\"text-align: right;\">\n",
       "      <th></th>\n",
       "      <th>A</th>\n",
       "      <th>B</th>\n",
       "      <th>C</th>\n",
       "      <th>D</th>\n",
       "      <th>E</th>\n",
       "    </tr>\n",
       "  </thead>\n",
       "  <tbody>\n",
       "    <tr>\n",
       "      <th>0</th>\n",
       "      <td>1.0</td>\n",
       "      <td>100.000000</td>\n",
       "      <td>0.229940</td>\n",
       "      <td>0.278598</td>\n",
       "      <td>0.352589</td>\n",
       "    </tr>\n",
       "    <tr>\n",
       "      <th>1</th>\n",
       "      <td>100</td>\n",
       "      <td>100.000000</td>\n",
       "      <td>100.000000</td>\n",
       "      <td>0.768851</td>\n",
       "      <td>0.509203</td>\n",
       "    </tr>\n",
       "    <tr>\n",
       "      <th>2</th>\n",
       "      <td>0.650709</td>\n",
       "      <td>0.736849</td>\n",
       "      <td>0.391800</td>\n",
       "      <td>0.104616</td>\n",
       "      <td>0.746906</td>\n",
       "    </tr>\n",
       "    <tr>\n",
       "      <th>3</th>\n",
       "      <td>0.599674</td>\n",
       "      <td>0.570605</td>\n",
       "      <td>0.221078</td>\n",
       "      <td>0.321030</td>\n",
       "      <td>0.623730</td>\n",
       "    </tr>\n",
       "    <tr>\n",
       "      <th>4</th>\n",
       "      <td>0.213762</td>\n",
       "      <td>0.934910</td>\n",
       "      <td>0.009412</td>\n",
       "      <td>0.332479</td>\n",
       "      <td>0.686547</td>\n",
       "    </tr>\n",
       "    <tr>\n",
       "      <th>5</th>\n",
       "      <td>0.986263</td>\n",
       "      <td>0.067386</td>\n",
       "      <td>0.449672</td>\n",
       "      <td>0.577783</td>\n",
       "      <td>0.732424</td>\n",
       "    </tr>\n",
       "    <tr>\n",
       "      <th>6</th>\n",
       "      <td>0.02159</td>\n",
       "      <td>0.614747</td>\n",
       "      <td>0.186360</td>\n",
       "      <td>0.550621</td>\n",
       "      <td>0.342377</td>\n",
       "    </tr>\n",
       "    <tr>\n",
       "      <th>7</th>\n",
       "      <td>0.389093</td>\n",
       "      <td>0.529743</td>\n",
       "      <td>0.247994</td>\n",
       "      <td>0.883347</td>\n",
       "      <td>0.817255</td>\n",
       "    </tr>\n",
       "  </tbody>\n",
       "</table>\n",
       "</div>"
      ],
      "text/plain": [
       "          A           B           C         D         E\n",
       "0       1.0  100.000000    0.229940  0.278598  0.352589\n",
       "1       100  100.000000  100.000000  0.768851  0.509203\n",
       "2  0.650709    0.736849    0.391800  0.104616  0.746906\n",
       "3  0.599674    0.570605    0.221078  0.321030  0.623730\n",
       "4  0.213762    0.934910    0.009412  0.332479  0.686547\n",
       "5  0.986263    0.067386    0.449672  0.577783  0.732424\n",
       "6   0.02159    0.614747    0.186360  0.550621  0.342377\n",
       "7  0.389093    0.529743    0.247994  0.883347  0.817255"
      ]
     },
     "execution_count": 85,
     "metadata": {},
     "output_type": "execute_result"
    }
   ],
   "source": [
    "df1"
   ]
  },
  {
   "cell_type": "code",
   "execution_count": 88,
   "id": "e3ddc1ae-70c1-40b8-a5fd-38020d62c030",
   "metadata": {},
   "outputs": [],
   "source": [
    "df1.loc[0 , 0] = 654453"
   ]
  },
  {
   "cell_type": "code",
   "execution_count": 89,
   "id": "2221b8f9-8e48-4d5a-9cdc-2a0a4458a6a0",
   "metadata": {},
   "outputs": [
    {
     "data": {
      "text/html": [
       "<div>\n",
       "<style scoped>\n",
       "    .dataframe tbody tr th:only-of-type {\n",
       "        vertical-align: middle;\n",
       "    }\n",
       "\n",
       "    .dataframe tbody tr th {\n",
       "        vertical-align: top;\n",
       "    }\n",
       "\n",
       "    .dataframe thead th {\n",
       "        text-align: right;\n",
       "    }\n",
       "</style>\n",
       "<table border=\"1\" class=\"dataframe\">\n",
       "  <thead>\n",
       "    <tr style=\"text-align: right;\">\n",
       "      <th></th>\n",
       "      <th>A</th>\n",
       "      <th>B</th>\n",
       "      <th>C</th>\n",
       "      <th>D</th>\n",
       "      <th>E</th>\n",
       "      <th>0</th>\n",
       "    </tr>\n",
       "  </thead>\n",
       "  <tbody>\n",
       "    <tr>\n",
       "      <th>0</th>\n",
       "      <td>654453</td>\n",
       "      <td>100.000000</td>\n",
       "      <td>0.229940</td>\n",
       "      <td>0.278598</td>\n",
       "      <td>0.352589</td>\n",
       "      <td>654453.0</td>\n",
       "    </tr>\n",
       "    <tr>\n",
       "      <th>1</th>\n",
       "      <td>100</td>\n",
       "      <td>100.000000</td>\n",
       "      <td>100.000000</td>\n",
       "      <td>0.768851</td>\n",
       "      <td>0.509203</td>\n",
       "      <td>NaN</td>\n",
       "    </tr>\n",
       "    <tr>\n",
       "      <th>2</th>\n",
       "      <td>0.650709</td>\n",
       "      <td>0.736849</td>\n",
       "      <td>0.391800</td>\n",
       "      <td>0.104616</td>\n",
       "      <td>0.746906</td>\n",
       "      <td>NaN</td>\n",
       "    </tr>\n",
       "    <tr>\n",
       "      <th>3</th>\n",
       "      <td>0.599674</td>\n",
       "      <td>0.570605</td>\n",
       "      <td>0.221078</td>\n",
       "      <td>0.321030</td>\n",
       "      <td>0.623730</td>\n",
       "      <td>NaN</td>\n",
       "    </tr>\n",
       "    <tr>\n",
       "      <th>4</th>\n",
       "      <td>0.213762</td>\n",
       "      <td>0.934910</td>\n",
       "      <td>0.009412</td>\n",
       "      <td>0.332479</td>\n",
       "      <td>0.686547</td>\n",
       "      <td>NaN</td>\n",
       "    </tr>\n",
       "    <tr>\n",
       "      <th>5</th>\n",
       "      <td>0.986263</td>\n",
       "      <td>0.067386</td>\n",
       "      <td>0.449672</td>\n",
       "      <td>0.577783</td>\n",
       "      <td>0.732424</td>\n",
       "      <td>NaN</td>\n",
       "    </tr>\n",
       "    <tr>\n",
       "      <th>6</th>\n",
       "      <td>0.02159</td>\n",
       "      <td>0.614747</td>\n",
       "      <td>0.186360</td>\n",
       "      <td>0.550621</td>\n",
       "      <td>0.342377</td>\n",
       "      <td>NaN</td>\n",
       "    </tr>\n",
       "    <tr>\n",
       "      <th>7</th>\n",
       "      <td>0.389093</td>\n",
       "      <td>0.529743</td>\n",
       "      <td>0.247994</td>\n",
       "      <td>0.883347</td>\n",
       "      <td>0.817255</td>\n",
       "      <td>NaN</td>\n",
       "    </tr>\n",
       "  </tbody>\n",
       "</table>\n",
       "</div>"
      ],
      "text/plain": [
       "          A           B           C         D         E         0\n",
       "0    654453  100.000000    0.229940  0.278598  0.352589  654453.0\n",
       "1       100  100.000000  100.000000  0.768851  0.509203       NaN\n",
       "2  0.650709    0.736849    0.391800  0.104616  0.746906       NaN\n",
       "3  0.599674    0.570605    0.221078  0.321030  0.623730       NaN\n",
       "4  0.213762    0.934910    0.009412  0.332479  0.686547       NaN\n",
       "5  0.986263    0.067386    0.449672  0.577783  0.732424       NaN\n",
       "6   0.02159    0.614747    0.186360  0.550621  0.342377       NaN\n",
       "7  0.389093    0.529743    0.247994  0.883347  0.817255       NaN"
      ]
     },
     "execution_count": 89,
     "metadata": {},
     "output_type": "execute_result"
    }
   ],
   "source": [
    "df1"
   ]
  },
  {
   "cell_type": "code",
   "execution_count": 91,
   "id": "9c175532-7840-4ba4-93e3-3cfdc6ae3106",
   "metadata": {},
   "outputs": [],
   "source": [
    "df1 = df1.drop(0 , axis = 1)"
   ]
  },
  {
   "cell_type": "code",
   "execution_count": 92,
   "id": "463fd824-a79f-4d3d-b93a-482053a6fb50",
   "metadata": {},
   "outputs": [
    {
     "data": {
      "text/html": [
       "<div>\n",
       "<style scoped>\n",
       "    .dataframe tbody tr th:only-of-type {\n",
       "        vertical-align: middle;\n",
       "    }\n",
       "\n",
       "    .dataframe tbody tr th {\n",
       "        vertical-align: top;\n",
       "    }\n",
       "\n",
       "    .dataframe thead th {\n",
       "        text-align: right;\n",
       "    }\n",
       "</style>\n",
       "<table border=\"1\" class=\"dataframe\">\n",
       "  <thead>\n",
       "    <tr style=\"text-align: right;\">\n",
       "      <th></th>\n",
       "      <th>A</th>\n",
       "      <th>B</th>\n",
       "      <th>C</th>\n",
       "      <th>D</th>\n",
       "      <th>E</th>\n",
       "    </tr>\n",
       "  </thead>\n",
       "  <tbody>\n",
       "    <tr>\n",
       "      <th>0</th>\n",
       "      <td>654453</td>\n",
       "      <td>100.000000</td>\n",
       "      <td>0.229940</td>\n",
       "      <td>0.278598</td>\n",
       "      <td>0.352589</td>\n",
       "    </tr>\n",
       "    <tr>\n",
       "      <th>1</th>\n",
       "      <td>100</td>\n",
       "      <td>100.000000</td>\n",
       "      <td>100.000000</td>\n",
       "      <td>0.768851</td>\n",
       "      <td>0.509203</td>\n",
       "    </tr>\n",
       "    <tr>\n",
       "      <th>2</th>\n",
       "      <td>0.650709</td>\n",
       "      <td>0.736849</td>\n",
       "      <td>0.391800</td>\n",
       "      <td>0.104616</td>\n",
       "      <td>0.746906</td>\n",
       "    </tr>\n",
       "    <tr>\n",
       "      <th>3</th>\n",
       "      <td>0.599674</td>\n",
       "      <td>0.570605</td>\n",
       "      <td>0.221078</td>\n",
       "      <td>0.321030</td>\n",
       "      <td>0.623730</td>\n",
       "    </tr>\n",
       "    <tr>\n",
       "      <th>4</th>\n",
       "      <td>0.213762</td>\n",
       "      <td>0.934910</td>\n",
       "      <td>0.009412</td>\n",
       "      <td>0.332479</td>\n",
       "      <td>0.686547</td>\n",
       "    </tr>\n",
       "    <tr>\n",
       "      <th>5</th>\n",
       "      <td>0.986263</td>\n",
       "      <td>0.067386</td>\n",
       "      <td>0.449672</td>\n",
       "      <td>0.577783</td>\n",
       "      <td>0.732424</td>\n",
       "    </tr>\n",
       "    <tr>\n",
       "      <th>6</th>\n",
       "      <td>0.02159</td>\n",
       "      <td>0.614747</td>\n",
       "      <td>0.186360</td>\n",
       "      <td>0.550621</td>\n",
       "      <td>0.342377</td>\n",
       "    </tr>\n",
       "    <tr>\n",
       "      <th>7</th>\n",
       "      <td>0.389093</td>\n",
       "      <td>0.529743</td>\n",
       "      <td>0.247994</td>\n",
       "      <td>0.883347</td>\n",
       "      <td>0.817255</td>\n",
       "    </tr>\n",
       "  </tbody>\n",
       "</table>\n",
       "</div>"
      ],
      "text/plain": [
       "          A           B           C         D         E\n",
       "0    654453  100.000000    0.229940  0.278598  0.352589\n",
       "1       100  100.000000  100.000000  0.768851  0.509203\n",
       "2  0.650709    0.736849    0.391800  0.104616  0.746906\n",
       "3  0.599674    0.570605    0.221078  0.321030  0.623730\n",
       "4  0.213762    0.934910    0.009412  0.332479  0.686547\n",
       "5  0.986263    0.067386    0.449672  0.577783  0.732424\n",
       "6   0.02159    0.614747    0.186360  0.550621  0.342377\n",
       "7  0.389093    0.529743    0.247994  0.883347  0.817255"
      ]
     },
     "execution_count": 92,
     "metadata": {},
     "output_type": "execute_result"
    }
   ],
   "source": [
    "df1"
   ]
  },
  {
   "cell_type": "code",
   "execution_count": 97,
   "id": "1473e59a-1424-4700-bb0b-5047658684a8",
   "metadata": {},
   "outputs": [
    {
     "data": {
      "text/html": [
       "<div>\n",
       "<style scoped>\n",
       "    .dataframe tbody tr th:only-of-type {\n",
       "        vertical-align: middle;\n",
       "    }\n",
       "\n",
       "    .dataframe tbody tr th {\n",
       "        vertical-align: top;\n",
       "    }\n",
       "\n",
       "    .dataframe thead th {\n",
       "        text-align: right;\n",
       "    }\n",
       "</style>\n",
       "<table border=\"1\" class=\"dataframe\">\n",
       "  <thead>\n",
       "    <tr style=\"text-align: right;\">\n",
       "      <th></th>\n",
       "      <th>A</th>\n",
       "      <th>B</th>\n",
       "      <th>C</th>\n",
       "      <th>D</th>\n",
       "    </tr>\n",
       "  </thead>\n",
       "  <tbody>\n",
       "    <tr>\n",
       "      <th>0</th>\n",
       "      <td>654453</td>\n",
       "      <td>100.000000</td>\n",
       "      <td>0.229940</td>\n",
       "      <td>0.278598</td>\n",
       "    </tr>\n",
       "    <tr>\n",
       "      <th>1</th>\n",
       "      <td>100</td>\n",
       "      <td>100.000000</td>\n",
       "      <td>100.000000</td>\n",
       "      <td>0.768851</td>\n",
       "    </tr>\n",
       "    <tr>\n",
       "      <th>2</th>\n",
       "      <td>0.650709</td>\n",
       "      <td>0.736849</td>\n",
       "      <td>0.391800</td>\n",
       "      <td>0.104616</td>\n",
       "    </tr>\n",
       "    <tr>\n",
       "      <th>3</th>\n",
       "      <td>0.599674</td>\n",
       "      <td>0.570605</td>\n",
       "      <td>0.221078</td>\n",
       "      <td>0.321030</td>\n",
       "    </tr>\n",
       "    <tr>\n",
       "      <th>4</th>\n",
       "      <td>0.213762</td>\n",
       "      <td>0.934910</td>\n",
       "      <td>0.009412</td>\n",
       "      <td>0.332479</td>\n",
       "    </tr>\n",
       "    <tr>\n",
       "      <th>5</th>\n",
       "      <td>0.986263</td>\n",
       "      <td>0.067386</td>\n",
       "      <td>0.449672</td>\n",
       "      <td>0.577783</td>\n",
       "    </tr>\n",
       "    <tr>\n",
       "      <th>6</th>\n",
       "      <td>0.02159</td>\n",
       "      <td>0.614747</td>\n",
       "      <td>0.186360</td>\n",
       "      <td>0.550621</td>\n",
       "    </tr>\n",
       "    <tr>\n",
       "      <th>7</th>\n",
       "      <td>0.389093</td>\n",
       "      <td>0.529743</td>\n",
       "      <td>0.247994</td>\n",
       "      <td>0.883347</td>\n",
       "    </tr>\n",
       "  </tbody>\n",
       "</table>\n",
       "</div>"
      ],
      "text/plain": [
       "          A           B           C         D\n",
       "0    654453  100.000000    0.229940  0.278598\n",
       "1       100  100.000000  100.000000  0.768851\n",
       "2  0.650709    0.736849    0.391800  0.104616\n",
       "3  0.599674    0.570605    0.221078  0.321030\n",
       "4  0.213762    0.934910    0.009412  0.332479\n",
       "5  0.986263    0.067386    0.449672  0.577783\n",
       "6   0.02159    0.614747    0.186360  0.550621\n",
       "7  0.389093    0.529743    0.247994  0.883347"
      ]
     },
     "execution_count": 97,
     "metadata": {},
     "output_type": "execute_result"
    }
   ],
   "source": [
    "df1.drop('E' , axis = 1)"
   ]
  },
  {
   "cell_type": "code",
   "execution_count": 98,
   "id": "eb4528a3-d0ad-49d7-9286-c3f7377992fb",
   "metadata": {},
   "outputs": [
    {
     "data": {
      "text/html": [
       "<div>\n",
       "<style scoped>\n",
       "    .dataframe tbody tr th:only-of-type {\n",
       "        vertical-align: middle;\n",
       "    }\n",
       "\n",
       "    .dataframe tbody tr th {\n",
       "        vertical-align: top;\n",
       "    }\n",
       "\n",
       "    .dataframe thead th {\n",
       "        text-align: right;\n",
       "    }\n",
       "</style>\n",
       "<table border=\"1\" class=\"dataframe\">\n",
       "  <thead>\n",
       "    <tr style=\"text-align: right;\">\n",
       "      <th></th>\n",
       "      <th>A</th>\n",
       "      <th>B</th>\n",
       "      <th>C</th>\n",
       "      <th>D</th>\n",
       "      <th>E</th>\n",
       "    </tr>\n",
       "  </thead>\n",
       "  <tbody>\n",
       "    <tr>\n",
       "      <th>0</th>\n",
       "      <td>654453</td>\n",
       "      <td>100.000000</td>\n",
       "      <td>0.229940</td>\n",
       "      <td>0.278598</td>\n",
       "      <td>0.352589</td>\n",
       "    </tr>\n",
       "    <tr>\n",
       "      <th>1</th>\n",
       "      <td>100</td>\n",
       "      <td>100.000000</td>\n",
       "      <td>100.000000</td>\n",
       "      <td>0.768851</td>\n",
       "      <td>0.509203</td>\n",
       "    </tr>\n",
       "    <tr>\n",
       "      <th>2</th>\n",
       "      <td>0.650709</td>\n",
       "      <td>0.736849</td>\n",
       "      <td>0.391800</td>\n",
       "      <td>0.104616</td>\n",
       "      <td>0.746906</td>\n",
       "    </tr>\n",
       "    <tr>\n",
       "      <th>3</th>\n",
       "      <td>0.599674</td>\n",
       "      <td>0.570605</td>\n",
       "      <td>0.221078</td>\n",
       "      <td>0.321030</td>\n",
       "      <td>0.623730</td>\n",
       "    </tr>\n",
       "    <tr>\n",
       "      <th>4</th>\n",
       "      <td>0.213762</td>\n",
       "      <td>0.934910</td>\n",
       "      <td>0.009412</td>\n",
       "      <td>0.332479</td>\n",
       "      <td>0.686547</td>\n",
       "    </tr>\n",
       "    <tr>\n",
       "      <th>5</th>\n",
       "      <td>0.986263</td>\n",
       "      <td>0.067386</td>\n",
       "      <td>0.449672</td>\n",
       "      <td>0.577783</td>\n",
       "      <td>0.732424</td>\n",
       "    </tr>\n",
       "    <tr>\n",
       "      <th>6</th>\n",
       "      <td>0.02159</td>\n",
       "      <td>0.614747</td>\n",
       "      <td>0.186360</td>\n",
       "      <td>0.550621</td>\n",
       "      <td>0.342377</td>\n",
       "    </tr>\n",
       "    <tr>\n",
       "      <th>7</th>\n",
       "      <td>0.389093</td>\n",
       "      <td>0.529743</td>\n",
       "      <td>0.247994</td>\n",
       "      <td>0.883347</td>\n",
       "      <td>0.817255</td>\n",
       "    </tr>\n",
       "  </tbody>\n",
       "</table>\n",
       "</div>"
      ],
      "text/plain": [
       "          A           B           C         D         E\n",
       "0    654453  100.000000    0.229940  0.278598  0.352589\n",
       "1       100  100.000000  100.000000  0.768851  0.509203\n",
       "2  0.650709    0.736849    0.391800  0.104616  0.746906\n",
       "3  0.599674    0.570605    0.221078  0.321030  0.623730\n",
       "4  0.213762    0.934910    0.009412  0.332479  0.686547\n",
       "5  0.986263    0.067386    0.449672  0.577783  0.732424\n",
       "6   0.02159    0.614747    0.186360  0.550621  0.342377\n",
       "7  0.389093    0.529743    0.247994  0.883347  0.817255"
      ]
     },
     "execution_count": 98,
     "metadata": {},
     "output_type": "execute_result"
    }
   ],
   "source": [
    "df1"
   ]
  },
  {
   "cell_type": "code",
   "execution_count": 99,
   "id": "0f60a59d-8650-4e14-9800-1e102d8b932a",
   "metadata": {},
   "outputs": [
    {
     "data": {
      "text/html": [
       "<div>\n",
       "<style scoped>\n",
       "    .dataframe tbody tr th:only-of-type {\n",
       "        vertical-align: middle;\n",
       "    }\n",
       "\n",
       "    .dataframe tbody tr th {\n",
       "        vertical-align: top;\n",
       "    }\n",
       "\n",
       "    .dataframe thead th {\n",
       "        text-align: right;\n",
       "    }\n",
       "</style>\n",
       "<table border=\"1\" class=\"dataframe\">\n",
       "  <thead>\n",
       "    <tr style=\"text-align: right;\">\n",
       "      <th></th>\n",
       "      <th>A</th>\n",
       "      <th>B</th>\n",
       "      <th>C</th>\n",
       "      <th>D</th>\n",
       "      <th>E</th>\n",
       "    </tr>\n",
       "  </thead>\n",
       "  <tbody>\n",
       "    <tr>\n",
       "      <th>0</th>\n",
       "      <td>654453</td>\n",
       "      <td>100.000000</td>\n",
       "      <td>0.229940</td>\n",
       "      <td>0.278598</td>\n",
       "      <td>0.352589</td>\n",
       "    </tr>\n",
       "    <tr>\n",
       "      <th>1</th>\n",
       "      <td>100</td>\n",
       "      <td>100.000000</td>\n",
       "      <td>100.000000</td>\n",
       "      <td>0.768851</td>\n",
       "      <td>0.509203</td>\n",
       "    </tr>\n",
       "    <tr>\n",
       "      <th>2</th>\n",
       "      <td>0.650709</td>\n",
       "      <td>0.736849</td>\n",
       "      <td>0.391800</td>\n",
       "      <td>0.104616</td>\n",
       "      <td>0.746906</td>\n",
       "    </tr>\n",
       "    <tr>\n",
       "      <th>3</th>\n",
       "      <td>0.599674</td>\n",
       "      <td>0.570605</td>\n",
       "      <td>0.221078</td>\n",
       "      <td>0.321030</td>\n",
       "      <td>0.623730</td>\n",
       "    </tr>\n",
       "    <tr>\n",
       "      <th>5</th>\n",
       "      <td>0.986263</td>\n",
       "      <td>0.067386</td>\n",
       "      <td>0.449672</td>\n",
       "      <td>0.577783</td>\n",
       "      <td>0.732424</td>\n",
       "    </tr>\n",
       "    <tr>\n",
       "      <th>6</th>\n",
       "      <td>0.02159</td>\n",
       "      <td>0.614747</td>\n",
       "      <td>0.186360</td>\n",
       "      <td>0.550621</td>\n",
       "      <td>0.342377</td>\n",
       "    </tr>\n",
       "    <tr>\n",
       "      <th>7</th>\n",
       "      <td>0.389093</td>\n",
       "      <td>0.529743</td>\n",
       "      <td>0.247994</td>\n",
       "      <td>0.883347</td>\n",
       "      <td>0.817255</td>\n",
       "    </tr>\n",
       "  </tbody>\n",
       "</table>\n",
       "</div>"
      ],
      "text/plain": [
       "          A           B           C         D         E\n",
       "0    654453  100.000000    0.229940  0.278598  0.352589\n",
       "1       100  100.000000  100.000000  0.768851  0.509203\n",
       "2  0.650709    0.736849    0.391800  0.104616  0.746906\n",
       "3  0.599674    0.570605    0.221078  0.321030  0.623730\n",
       "5  0.986263    0.067386    0.449672  0.577783  0.732424\n",
       "6   0.02159    0.614747    0.186360  0.550621  0.342377\n",
       "7  0.389093    0.529743    0.247994  0.883347  0.817255"
      ]
     },
     "execution_count": 99,
     "metadata": {},
     "output_type": "execute_result"
    }
   ],
   "source": [
    "df1.drop(4 , axis = 0)"
   ]
  },
  {
   "cell_type": "code",
   "execution_count": 104,
   "id": "4ccccb36-deed-4cb1-a82c-8c98f3eaa5a8",
   "metadata": {},
   "outputs": [
    {
     "data": {
      "text/html": [
       "<div>\n",
       "<style scoped>\n",
       "    .dataframe tbody tr th:only-of-type {\n",
       "        vertical-align: middle;\n",
       "    }\n",
       "\n",
       "    .dataframe tbody tr th {\n",
       "        vertical-align: top;\n",
       "    }\n",
       "\n",
       "    .dataframe thead th {\n",
       "        text-align: right;\n",
       "    }\n",
       "</style>\n",
       "<table border=\"1\" class=\"dataframe\">\n",
       "  <thead>\n",
       "    <tr style=\"text-align: right;\">\n",
       "      <th></th>\n",
       "      <th>A</th>\n",
       "      <th>B</th>\n",
       "      <th>C</th>\n",
       "      <th>D</th>\n",
       "      <th>E</th>\n",
       "    </tr>\n",
       "  </thead>\n",
       "  <tbody>\n",
       "    <tr>\n",
       "      <th>0</th>\n",
       "      <td>654453</td>\n",
       "      <td>100.000000</td>\n",
       "      <td>0.229940</td>\n",
       "      <td>0.278598</td>\n",
       "      <td>0.352589</td>\n",
       "    </tr>\n",
       "    <tr>\n",
       "      <th>1</th>\n",
       "      <td>100</td>\n",
       "      <td>100.000000</td>\n",
       "      <td>100.000000</td>\n",
       "      <td>0.768851</td>\n",
       "      <td>0.509203</td>\n",
       "    </tr>\n",
       "    <tr>\n",
       "      <th>2</th>\n",
       "      <td>0.650709</td>\n",
       "      <td>0.736849</td>\n",
       "      <td>0.391800</td>\n",
       "      <td>0.104616</td>\n",
       "      <td>0.746906</td>\n",
       "    </tr>\n",
       "    <tr>\n",
       "      <th>3</th>\n",
       "      <td>0.599674</td>\n",
       "      <td>0.570605</td>\n",
       "      <td>0.221078</td>\n",
       "      <td>0.321030</td>\n",
       "      <td>0.623730</td>\n",
       "    </tr>\n",
       "    <tr>\n",
       "      <th>5</th>\n",
       "      <td>0.986263</td>\n",
       "      <td>0.067386</td>\n",
       "      <td>0.449672</td>\n",
       "      <td>0.577783</td>\n",
       "      <td>0.732424</td>\n",
       "    </tr>\n",
       "    <tr>\n",
       "      <th>6</th>\n",
       "      <td>0.02159</td>\n",
       "      <td>0.614747</td>\n",
       "      <td>0.186360</td>\n",
       "      <td>0.550621</td>\n",
       "      <td>0.342377</td>\n",
       "    </tr>\n",
       "    <tr>\n",
       "      <th>7</th>\n",
       "      <td>0.389093</td>\n",
       "      <td>0.529743</td>\n",
       "      <td>0.247994</td>\n",
       "      <td>0.883347</td>\n",
       "      <td>0.817255</td>\n",
       "    </tr>\n",
       "  </tbody>\n",
       "</table>\n",
       "</div>"
      ],
      "text/plain": [
       "          A           B           C         D         E\n",
       "0    654453  100.000000    0.229940  0.278598  0.352589\n",
       "1       100  100.000000  100.000000  0.768851  0.509203\n",
       "2  0.650709    0.736849    0.391800  0.104616  0.746906\n",
       "3  0.599674    0.570605    0.221078  0.321030  0.623730\n",
       "5  0.986263    0.067386    0.449672  0.577783  0.732424\n",
       "6   0.02159    0.614747    0.186360  0.550621  0.342377\n",
       "7  0.389093    0.529743    0.247994  0.883347  0.817255"
      ]
     },
     "execution_count": 104,
     "metadata": {},
     "output_type": "execute_result"
    }
   ],
   "source": [
    "df1.drop(4 , axis = 0)"
   ]
  },
  {
   "cell_type": "code",
   "execution_count": 106,
   "id": "c5f5c0c6-e3b0-4a69-9f21-b0f1435acda8",
   "metadata": {},
   "outputs": [
    {
     "data": {
      "text/html": [
       "<div>\n",
       "<style scoped>\n",
       "    .dataframe tbody tr th:only-of-type {\n",
       "        vertical-align: middle;\n",
       "    }\n",
       "\n",
       "    .dataframe tbody tr th {\n",
       "        vertical-align: top;\n",
       "    }\n",
       "\n",
       "    .dataframe thead th {\n",
       "        text-align: right;\n",
       "    }\n",
       "</style>\n",
       "<table border=\"1\" class=\"dataframe\">\n",
       "  <thead>\n",
       "    <tr style=\"text-align: right;\">\n",
       "      <th></th>\n",
       "      <th>C</th>\n",
       "      <th>D</th>\n",
       "    </tr>\n",
       "  </thead>\n",
       "  <tbody>\n",
       "    <tr>\n",
       "      <th>1</th>\n",
       "      <td>100.0000</td>\n",
       "      <td>0.768851</td>\n",
       "    </tr>\n",
       "    <tr>\n",
       "      <th>2</th>\n",
       "      <td>0.3918</td>\n",
       "      <td>0.104616</td>\n",
       "    </tr>\n",
       "  </tbody>\n",
       "</table>\n",
       "</div>"
      ],
      "text/plain": [
       "          C         D\n",
       "1  100.0000  0.768851\n",
       "2    0.3918  0.104616"
      ]
     },
     "execution_count": 106,
     "metadata": {},
     "output_type": "execute_result"
    }
   ],
   "source": [
    "df1.loc[[1,2], ['C', 'D']]"
   ]
  },
  {
   "cell_type": "code",
   "execution_count": 108,
   "id": "b7b788ea-a233-4a9f-bad7-b4e1825e88b0",
   "metadata": {},
   "outputs": [
    {
     "data": {
      "text/html": [
       "<div>\n",
       "<style scoped>\n",
       "    .dataframe tbody tr th:only-of-type {\n",
       "        vertical-align: middle;\n",
       "    }\n",
       "\n",
       "    .dataframe tbody tr th {\n",
       "        vertical-align: top;\n",
       "    }\n",
       "\n",
       "    .dataframe thead th {\n",
       "        text-align: right;\n",
       "    }\n",
       "</style>\n",
       "<table border=\"1\" class=\"dataframe\">\n",
       "  <thead>\n",
       "    <tr style=\"text-align: right;\">\n",
       "      <th></th>\n",
       "      <th>C</th>\n",
       "      <th>D</th>\n",
       "    </tr>\n",
       "  </thead>\n",
       "  <tbody>\n",
       "    <tr>\n",
       "      <th>0</th>\n",
       "      <td>0.229940</td>\n",
       "      <td>0.278598</td>\n",
       "    </tr>\n",
       "    <tr>\n",
       "      <th>1</th>\n",
       "      <td>100.000000</td>\n",
       "      <td>0.768851</td>\n",
       "    </tr>\n",
       "    <tr>\n",
       "      <th>2</th>\n",
       "      <td>0.391800</td>\n",
       "      <td>0.104616</td>\n",
       "    </tr>\n",
       "    <tr>\n",
       "      <th>3</th>\n",
       "      <td>0.221078</td>\n",
       "      <td>0.321030</td>\n",
       "    </tr>\n",
       "    <tr>\n",
       "      <th>4</th>\n",
       "      <td>0.009412</td>\n",
       "      <td>0.332479</td>\n",
       "    </tr>\n",
       "    <tr>\n",
       "      <th>5</th>\n",
       "      <td>0.449672</td>\n",
       "      <td>0.577783</td>\n",
       "    </tr>\n",
       "    <tr>\n",
       "      <th>6</th>\n",
       "      <td>0.186360</td>\n",
       "      <td>0.550621</td>\n",
       "    </tr>\n",
       "    <tr>\n",
       "      <th>7</th>\n",
       "      <td>0.247994</td>\n",
       "      <td>0.883347</td>\n",
       "    </tr>\n",
       "  </tbody>\n",
       "</table>\n",
       "</div>"
      ],
      "text/plain": [
       "            C         D\n",
       "0    0.229940  0.278598\n",
       "1  100.000000  0.768851\n",
       "2    0.391800  0.104616\n",
       "3    0.221078  0.321030\n",
       "4    0.009412  0.332479\n",
       "5    0.449672  0.577783\n",
       "6    0.186360  0.550621\n",
       "7    0.247994  0.883347"
      ]
     },
     "execution_count": 108,
     "metadata": {},
     "output_type": "execute_result"
    }
   ],
   "source": [
    "df1.loc[:, ['C', 'D']]"
   ]
  },
  {
   "cell_type": "code",
   "execution_count": 111,
   "id": "cd2c7c7f-ad8c-4fce-9afe-4774cddb6b03",
   "metadata": {},
   "outputs": [
    {
     "data": {
      "text/html": [
       "<div>\n",
       "<style scoped>\n",
       "    .dataframe tbody tr th:only-of-type {\n",
       "        vertical-align: middle;\n",
       "    }\n",
       "\n",
       "    .dataframe tbody tr th {\n",
       "        vertical-align: top;\n",
       "    }\n",
       "\n",
       "    .dataframe thead th {\n",
       "        text-align: right;\n",
       "    }\n",
       "</style>\n",
       "<table border=\"1\" class=\"dataframe\">\n",
       "  <thead>\n",
       "    <tr style=\"text-align: right;\">\n",
       "      <th></th>\n",
       "      <th>A</th>\n",
       "      <th>B</th>\n",
       "      <th>C</th>\n",
       "      <th>D</th>\n",
       "      <th>E</th>\n",
       "    </tr>\n",
       "  </thead>\n",
       "  <tbody>\n",
       "    <tr>\n",
       "      <th>1</th>\n",
       "      <td>100</td>\n",
       "      <td>100.000000</td>\n",
       "      <td>100.0000</td>\n",
       "      <td>0.768851</td>\n",
       "      <td>0.509203</td>\n",
       "    </tr>\n",
       "    <tr>\n",
       "      <th>2</th>\n",
       "      <td>0.650709</td>\n",
       "      <td>0.736849</td>\n",
       "      <td>0.3918</td>\n",
       "      <td>0.104616</td>\n",
       "      <td>0.746906</td>\n",
       "    </tr>\n",
       "  </tbody>\n",
       "</table>\n",
       "</div>"
      ],
      "text/plain": [
       "          A           B         C         D         E\n",
       "1       100  100.000000  100.0000  0.768851  0.509203\n",
       "2  0.650709    0.736849    0.3918  0.104616  0.746906"
      ]
     },
     "execution_count": 111,
     "metadata": {},
     "output_type": "execute_result"
    }
   ],
   "source": [
    "df1.loc[[1,2], :]"
   ]
  },
  {
   "cell_type": "code",
   "execution_count": 113,
   "id": "2ee9587c-8c70-4167-8b81-021560e4ae4b",
   "metadata": {},
   "outputs": [
    {
     "data": {
      "text/html": [
       "<div>\n",
       "<style scoped>\n",
       "    .dataframe tbody tr th:only-of-type {\n",
       "        vertical-align: middle;\n",
       "    }\n",
       "\n",
       "    .dataframe tbody tr th {\n",
       "        vertical-align: top;\n",
       "    }\n",
       "\n",
       "    .dataframe thead th {\n",
       "        text-align: right;\n",
       "    }\n",
       "</style>\n",
       "<table border=\"1\" class=\"dataframe\">\n",
       "  <thead>\n",
       "    <tr style=\"text-align: right;\">\n",
       "      <th></th>\n",
       "      <th>A</th>\n",
       "      <th>B</th>\n",
       "      <th>C</th>\n",
       "      <th>D</th>\n",
       "      <th>E</th>\n",
       "    </tr>\n",
       "  </thead>\n",
       "  <tbody>\n",
       "    <tr>\n",
       "      <th>4</th>\n",
       "      <td>0.213762</td>\n",
       "      <td>0.934910</td>\n",
       "      <td>0.009412</td>\n",
       "      <td>0.332479</td>\n",
       "      <td>0.686547</td>\n",
       "    </tr>\n",
       "    <tr>\n",
       "      <th>6</th>\n",
       "      <td>0.02159</td>\n",
       "      <td>0.614747</td>\n",
       "      <td>0.186360</td>\n",
       "      <td>0.550621</td>\n",
       "      <td>0.342377</td>\n",
       "    </tr>\n",
       "  </tbody>\n",
       "</table>\n",
       "</div>"
      ],
      "text/plain": [
       "          A         B         C         D         E\n",
       "4  0.213762  0.934910  0.009412  0.332479  0.686547\n",
       "6   0.02159  0.614747  0.186360  0.550621  0.342377"
      ]
     },
     "execution_count": 113,
     "metadata": {},
     "output_type": "execute_result"
    }
   ],
   "source": [
    "df1.loc[(df1['A']<0.3)]"
   ]
  },
  {
   "cell_type": "code",
   "execution_count": 119,
   "id": "d9d29db4-8238-4c3a-b1ae-5a28929e8153",
   "metadata": {},
   "outputs": [
    {
     "data": {
      "text/html": [
       "<div>\n",
       "<style scoped>\n",
       "    .dataframe tbody tr th:only-of-type {\n",
       "        vertical-align: middle;\n",
       "    }\n",
       "\n",
       "    .dataframe tbody tr th {\n",
       "        vertical-align: top;\n",
       "    }\n",
       "\n",
       "    .dataframe thead th {\n",
       "        text-align: right;\n",
       "    }\n",
       "</style>\n",
       "<table border=\"1\" class=\"dataframe\">\n",
       "  <thead>\n",
       "    <tr style=\"text-align: right;\">\n",
       "      <th></th>\n",
       "      <th>A</th>\n",
       "      <th>B</th>\n",
       "      <th>C</th>\n",
       "      <th>D</th>\n",
       "      <th>E</th>\n",
       "    </tr>\n",
       "  </thead>\n",
       "  <tbody>\n",
       "    <tr>\n",
       "      <th>6</th>\n",
       "      <td>0.02159</td>\n",
       "      <td>0.614747</td>\n",
       "      <td>0.18636</td>\n",
       "      <td>0.550621</td>\n",
       "      <td>0.342377</td>\n",
       "    </tr>\n",
       "  </tbody>\n",
       "</table>\n",
       "</div>"
      ],
      "text/plain": [
       "         A         B        C         D         E\n",
       "6  0.02159  0.614747  0.18636  0.550621  0.342377"
      ]
     },
     "execution_count": 119,
     "metadata": {},
     "output_type": "execute_result"
    }
   ],
   "source": [
    "df1.loc[(df1['A']<0.3) & (df1['C']>0.1)]"
   ]
  },
  {
   "cell_type": "code",
   "execution_count": 120,
   "id": "cc45753c-1378-415d-bac9-30bf052023c9",
   "metadata": {},
   "outputs": [
    {
     "data": {
      "text/plain": [
       "0.7688505047112801"
      ]
     },
     "execution_count": 120,
     "metadata": {},
     "output_type": "execute_result"
    }
   ],
   "source": [
    "df1.iloc[1,3]"
   ]
  },
  {
   "cell_type": "code",
   "execution_count": 124,
   "id": "6cbf492d-8383-4fa4-8ac9-59a3b992f5bb",
   "metadata": {},
   "outputs": [
    {
     "data": {
      "text/html": [
       "<div>\n",
       "<style scoped>\n",
       "    .dataframe tbody tr th:only-of-type {\n",
       "        vertical-align: middle;\n",
       "    }\n",
       "\n",
       "    .dataframe tbody tr th {\n",
       "        vertical-align: top;\n",
       "    }\n",
       "\n",
       "    .dataframe thead th {\n",
       "        text-align: right;\n",
       "    }\n",
       "</style>\n",
       "<table border=\"1\" class=\"dataframe\">\n",
       "  <thead>\n",
       "    <tr style=\"text-align: right;\">\n",
       "      <th></th>\n",
       "      <th>A</th>\n",
       "      <th>E</th>\n",
       "    </tr>\n",
       "  </thead>\n",
       "  <tbody>\n",
       "    <tr>\n",
       "      <th>1</th>\n",
       "      <td>100</td>\n",
       "      <td>0.509203</td>\n",
       "    </tr>\n",
       "    <tr>\n",
       "      <th>3</th>\n",
       "      <td>0.599674</td>\n",
       "      <td>0.623730</td>\n",
       "    </tr>\n",
       "  </tbody>\n",
       "</table>\n",
       "</div>"
      ],
      "text/plain": [
       "          A         E\n",
       "1       100  0.509203\n",
       "3  0.599674  0.623730"
      ]
     },
     "execution_count": 124,
     "metadata": {},
     "output_type": "execute_result"
    }
   ],
   "source": [
    "df1.iloc[[1,3] , [0,4]]"
   ]
  },
  {
   "cell_type": "code",
   "execution_count": 125,
   "id": "85943216-19e1-4b2d-8690-ba21eb72c48a",
   "metadata": {},
   "outputs": [],
   "source": [
    "## inplace is value during dropping a row or column is False so that it doesnt affect the original table if we make it true then the change can happen"
   ]
  },
  {
   "cell_type": "code",
   "execution_count": 126,
   "id": "84edb083-d375-44b2-bc50-3ac862b602b5",
   "metadata": {},
   "outputs": [
    {
     "data": {
      "text/html": [
       "<div>\n",
       "<style scoped>\n",
       "    .dataframe tbody tr th:only-of-type {\n",
       "        vertical-align: middle;\n",
       "    }\n",
       "\n",
       "    .dataframe tbody tr th {\n",
       "        vertical-align: top;\n",
       "    }\n",
       "\n",
       "    .dataframe thead th {\n",
       "        text-align: right;\n",
       "    }\n",
       "</style>\n",
       "<table border=\"1\" class=\"dataframe\">\n",
       "  <thead>\n",
       "    <tr style=\"text-align: right;\">\n",
       "      <th></th>\n",
       "      <th>A</th>\n",
       "      <th>B</th>\n",
       "      <th>C</th>\n",
       "      <th>D</th>\n",
       "      <th>E</th>\n",
       "    </tr>\n",
       "  </thead>\n",
       "  <tbody>\n",
       "    <tr>\n",
       "      <th>0</th>\n",
       "      <td>654453</td>\n",
       "      <td>100.000000</td>\n",
       "      <td>0.229940</td>\n",
       "      <td>0.278598</td>\n",
       "      <td>0.352589</td>\n",
       "    </tr>\n",
       "    <tr>\n",
       "      <th>1</th>\n",
       "      <td>100</td>\n",
       "      <td>100.000000</td>\n",
       "      <td>100.000000</td>\n",
       "      <td>0.768851</td>\n",
       "      <td>0.509203</td>\n",
       "    </tr>\n",
       "    <tr>\n",
       "      <th>2</th>\n",
       "      <td>0.650709</td>\n",
       "      <td>0.736849</td>\n",
       "      <td>0.391800</td>\n",
       "      <td>0.104616</td>\n",
       "      <td>0.746906</td>\n",
       "    </tr>\n",
       "    <tr>\n",
       "      <th>3</th>\n",
       "      <td>0.599674</td>\n",
       "      <td>0.570605</td>\n",
       "      <td>0.221078</td>\n",
       "      <td>0.321030</td>\n",
       "      <td>0.623730</td>\n",
       "    </tr>\n",
       "    <tr>\n",
       "      <th>4</th>\n",
       "      <td>0.213762</td>\n",
       "      <td>0.934910</td>\n",
       "      <td>0.009412</td>\n",
       "      <td>0.332479</td>\n",
       "      <td>0.686547</td>\n",
       "    </tr>\n",
       "    <tr>\n",
       "      <th>5</th>\n",
       "      <td>0.986263</td>\n",
       "      <td>0.067386</td>\n",
       "      <td>0.449672</td>\n",
       "      <td>0.577783</td>\n",
       "      <td>0.732424</td>\n",
       "    </tr>\n",
       "    <tr>\n",
       "      <th>6</th>\n",
       "      <td>0.02159</td>\n",
       "      <td>0.614747</td>\n",
       "      <td>0.186360</td>\n",
       "      <td>0.550621</td>\n",
       "      <td>0.342377</td>\n",
       "    </tr>\n",
       "    <tr>\n",
       "      <th>7</th>\n",
       "      <td>0.389093</td>\n",
       "      <td>0.529743</td>\n",
       "      <td>0.247994</td>\n",
       "      <td>0.883347</td>\n",
       "      <td>0.817255</td>\n",
       "    </tr>\n",
       "  </tbody>\n",
       "</table>\n",
       "</div>"
      ],
      "text/plain": [
       "          A           B           C         D         E\n",
       "0    654453  100.000000    0.229940  0.278598  0.352589\n",
       "1       100  100.000000  100.000000  0.768851  0.509203\n",
       "2  0.650709    0.736849    0.391800  0.104616  0.746906\n",
       "3  0.599674    0.570605    0.221078  0.321030  0.623730\n",
       "4  0.213762    0.934910    0.009412  0.332479  0.686547\n",
       "5  0.986263    0.067386    0.449672  0.577783  0.732424\n",
       "6   0.02159    0.614747    0.186360  0.550621  0.342377\n",
       "7  0.389093    0.529743    0.247994  0.883347  0.817255"
      ]
     },
     "execution_count": 126,
     "metadata": {},
     "output_type": "execute_result"
    }
   ],
   "source": [
    "df1"
   ]
  },
  {
   "cell_type": "code",
   "execution_count": 127,
   "id": "fbe6b3c2-5b27-4cbf-ad2b-1bf2350e1532",
   "metadata": {},
   "outputs": [
    {
     "data": {
      "text/html": [
       "<div>\n",
       "<style scoped>\n",
       "    .dataframe tbody tr th:only-of-type {\n",
       "        vertical-align: middle;\n",
       "    }\n",
       "\n",
       "    .dataframe tbody tr th {\n",
       "        vertical-align: top;\n",
       "    }\n",
       "\n",
       "    .dataframe thead th {\n",
       "        text-align: right;\n",
       "    }\n",
       "</style>\n",
       "<table border=\"1\" class=\"dataframe\">\n",
       "  <thead>\n",
       "    <tr style=\"text-align: right;\">\n",
       "      <th></th>\n",
       "      <th>A</th>\n",
       "      <th>B</th>\n",
       "      <th>C</th>\n",
       "      <th>D</th>\n",
       "      <th>E</th>\n",
       "    </tr>\n",
       "  </thead>\n",
       "  <tbody>\n",
       "    <tr>\n",
       "      <th>0</th>\n",
       "      <td>654453</td>\n",
       "      <td>100.000000</td>\n",
       "      <td>0.229940</td>\n",
       "      <td>0.278598</td>\n",
       "      <td>0.352589</td>\n",
       "    </tr>\n",
       "    <tr>\n",
       "      <th>1</th>\n",
       "      <td>100</td>\n",
       "      <td>100.000000</td>\n",
       "      <td>100.000000</td>\n",
       "      <td>0.768851</td>\n",
       "      <td>0.509203</td>\n",
       "    </tr>\n",
       "    <tr>\n",
       "      <th>2</th>\n",
       "      <td>0.650709</td>\n",
       "      <td>0.736849</td>\n",
       "      <td>0.391800</td>\n",
       "      <td>0.104616</td>\n",
       "      <td>0.746906</td>\n",
       "    </tr>\n",
       "    <tr>\n",
       "      <th>4</th>\n",
       "      <td>0.213762</td>\n",
       "      <td>0.934910</td>\n",
       "      <td>0.009412</td>\n",
       "      <td>0.332479</td>\n",
       "      <td>0.686547</td>\n",
       "    </tr>\n",
       "    <tr>\n",
       "      <th>5</th>\n",
       "      <td>0.986263</td>\n",
       "      <td>0.067386</td>\n",
       "      <td>0.449672</td>\n",
       "      <td>0.577783</td>\n",
       "      <td>0.732424</td>\n",
       "    </tr>\n",
       "    <tr>\n",
       "      <th>6</th>\n",
       "      <td>0.02159</td>\n",
       "      <td>0.614747</td>\n",
       "      <td>0.186360</td>\n",
       "      <td>0.550621</td>\n",
       "      <td>0.342377</td>\n",
       "    </tr>\n",
       "    <tr>\n",
       "      <th>7</th>\n",
       "      <td>0.389093</td>\n",
       "      <td>0.529743</td>\n",
       "      <td>0.247994</td>\n",
       "      <td>0.883347</td>\n",
       "      <td>0.817255</td>\n",
       "    </tr>\n",
       "  </tbody>\n",
       "</table>\n",
       "</div>"
      ],
      "text/plain": [
       "          A           B           C         D         E\n",
       "0    654453  100.000000    0.229940  0.278598  0.352589\n",
       "1       100  100.000000  100.000000  0.768851  0.509203\n",
       "2  0.650709    0.736849    0.391800  0.104616  0.746906\n",
       "4  0.213762    0.934910    0.009412  0.332479  0.686547\n",
       "5  0.986263    0.067386    0.449672  0.577783  0.732424\n",
       "6   0.02159    0.614747    0.186360  0.550621  0.342377\n",
       "7  0.389093    0.529743    0.247994  0.883347  0.817255"
      ]
     },
     "execution_count": 127,
     "metadata": {},
     "output_type": "execute_result"
    }
   ],
   "source": [
    "df1.drop(3)"
   ]
  },
  {
   "cell_type": "code",
   "execution_count": 128,
   "id": "a5981dc5-9f23-4711-9607-5a205654d7d8",
   "metadata": {},
   "outputs": [
    {
     "data": {
      "text/html": [
       "<div>\n",
       "<style scoped>\n",
       "    .dataframe tbody tr th:only-of-type {\n",
       "        vertical-align: middle;\n",
       "    }\n",
       "\n",
       "    .dataframe tbody tr th {\n",
       "        vertical-align: top;\n",
       "    }\n",
       "\n",
       "    .dataframe thead th {\n",
       "        text-align: right;\n",
       "    }\n",
       "</style>\n",
       "<table border=\"1\" class=\"dataframe\">\n",
       "  <thead>\n",
       "    <tr style=\"text-align: right;\">\n",
       "      <th></th>\n",
       "      <th>index</th>\n",
       "      <th>A</th>\n",
       "      <th>B</th>\n",
       "      <th>C</th>\n",
       "      <th>D</th>\n",
       "      <th>E</th>\n",
       "    </tr>\n",
       "  </thead>\n",
       "  <tbody>\n",
       "    <tr>\n",
       "      <th>0</th>\n",
       "      <td>0</td>\n",
       "      <td>654453</td>\n",
       "      <td>100.000000</td>\n",
       "      <td>0.229940</td>\n",
       "      <td>0.278598</td>\n",
       "      <td>0.352589</td>\n",
       "    </tr>\n",
       "    <tr>\n",
       "      <th>1</th>\n",
       "      <td>1</td>\n",
       "      <td>100</td>\n",
       "      <td>100.000000</td>\n",
       "      <td>100.000000</td>\n",
       "      <td>0.768851</td>\n",
       "      <td>0.509203</td>\n",
       "    </tr>\n",
       "    <tr>\n",
       "      <th>2</th>\n",
       "      <td>2</td>\n",
       "      <td>0.650709</td>\n",
       "      <td>0.736849</td>\n",
       "      <td>0.391800</td>\n",
       "      <td>0.104616</td>\n",
       "      <td>0.746906</td>\n",
       "    </tr>\n",
       "    <tr>\n",
       "      <th>3</th>\n",
       "      <td>3</td>\n",
       "      <td>0.599674</td>\n",
       "      <td>0.570605</td>\n",
       "      <td>0.221078</td>\n",
       "      <td>0.321030</td>\n",
       "      <td>0.623730</td>\n",
       "    </tr>\n",
       "    <tr>\n",
       "      <th>4</th>\n",
       "      <td>4</td>\n",
       "      <td>0.213762</td>\n",
       "      <td>0.934910</td>\n",
       "      <td>0.009412</td>\n",
       "      <td>0.332479</td>\n",
       "      <td>0.686547</td>\n",
       "    </tr>\n",
       "    <tr>\n",
       "      <th>5</th>\n",
       "      <td>5</td>\n",
       "      <td>0.986263</td>\n",
       "      <td>0.067386</td>\n",
       "      <td>0.449672</td>\n",
       "      <td>0.577783</td>\n",
       "      <td>0.732424</td>\n",
       "    </tr>\n",
       "    <tr>\n",
       "      <th>6</th>\n",
       "      <td>6</td>\n",
       "      <td>0.02159</td>\n",
       "      <td>0.614747</td>\n",
       "      <td>0.186360</td>\n",
       "      <td>0.550621</td>\n",
       "      <td>0.342377</td>\n",
       "    </tr>\n",
       "    <tr>\n",
       "      <th>7</th>\n",
       "      <td>7</td>\n",
       "      <td>0.389093</td>\n",
       "      <td>0.529743</td>\n",
       "      <td>0.247994</td>\n",
       "      <td>0.883347</td>\n",
       "      <td>0.817255</td>\n",
       "    </tr>\n",
       "  </tbody>\n",
       "</table>\n",
       "</div>"
      ],
      "text/plain": [
       "   index         A           B           C         D         E\n",
       "0      0    654453  100.000000    0.229940  0.278598  0.352589\n",
       "1      1       100  100.000000  100.000000  0.768851  0.509203\n",
       "2      2  0.650709    0.736849    0.391800  0.104616  0.746906\n",
       "3      3  0.599674    0.570605    0.221078  0.321030  0.623730\n",
       "4      4  0.213762    0.934910    0.009412  0.332479  0.686547\n",
       "5      5  0.986263    0.067386    0.449672  0.577783  0.732424\n",
       "6      6   0.02159    0.614747    0.186360  0.550621  0.342377\n",
       "7      7  0.389093    0.529743    0.247994  0.883347  0.817255"
      ]
     },
     "execution_count": 128,
     "metadata": {},
     "output_type": "execute_result"
    }
   ],
   "source": [
    "df1.reset_index()"
   ]
  },
  {
   "cell_type": "code",
   "execution_count": 130,
   "id": "c5c5aca3-0135-46a2-81b9-51c900af1d1c",
   "metadata": {},
   "outputs": [
    {
     "data": {
      "text/html": [
       "<div>\n",
       "<style scoped>\n",
       "    .dataframe tbody tr th:only-of-type {\n",
       "        vertical-align: middle;\n",
       "    }\n",
       "\n",
       "    .dataframe tbody tr th {\n",
       "        vertical-align: top;\n",
       "    }\n",
       "\n",
       "    .dataframe thead th {\n",
       "        text-align: right;\n",
       "    }\n",
       "</style>\n",
       "<table border=\"1\" class=\"dataframe\">\n",
       "  <thead>\n",
       "    <tr style=\"text-align: right;\">\n",
       "      <th></th>\n",
       "      <th>A</th>\n",
       "      <th>B</th>\n",
       "      <th>C</th>\n",
       "      <th>D</th>\n",
       "      <th>E</th>\n",
       "    </tr>\n",
       "  </thead>\n",
       "  <tbody>\n",
       "    <tr>\n",
       "      <th>0</th>\n",
       "      <td>654453</td>\n",
       "      <td>100.000000</td>\n",
       "      <td>0.229940</td>\n",
       "      <td>0.278598</td>\n",
       "      <td>0.352589</td>\n",
       "    </tr>\n",
       "    <tr>\n",
       "      <th>1</th>\n",
       "      <td>100</td>\n",
       "      <td>100.000000</td>\n",
       "      <td>100.000000</td>\n",
       "      <td>0.768851</td>\n",
       "      <td>0.509203</td>\n",
       "    </tr>\n",
       "    <tr>\n",
       "      <th>2</th>\n",
       "      <td>0.650709</td>\n",
       "      <td>0.736849</td>\n",
       "      <td>0.391800</td>\n",
       "      <td>0.104616</td>\n",
       "      <td>0.746906</td>\n",
       "    </tr>\n",
       "    <tr>\n",
       "      <th>3</th>\n",
       "      <td>0.599674</td>\n",
       "      <td>0.570605</td>\n",
       "      <td>0.221078</td>\n",
       "      <td>0.321030</td>\n",
       "      <td>0.623730</td>\n",
       "    </tr>\n",
       "    <tr>\n",
       "      <th>4</th>\n",
       "      <td>0.213762</td>\n",
       "      <td>0.934910</td>\n",
       "      <td>0.009412</td>\n",
       "      <td>0.332479</td>\n",
       "      <td>0.686547</td>\n",
       "    </tr>\n",
       "    <tr>\n",
       "      <th>5</th>\n",
       "      <td>0.986263</td>\n",
       "      <td>0.067386</td>\n",
       "      <td>0.449672</td>\n",
       "      <td>0.577783</td>\n",
       "      <td>0.732424</td>\n",
       "    </tr>\n",
       "    <tr>\n",
       "      <th>6</th>\n",
       "      <td>0.02159</td>\n",
       "      <td>0.614747</td>\n",
       "      <td>0.186360</td>\n",
       "      <td>0.550621</td>\n",
       "      <td>0.342377</td>\n",
       "    </tr>\n",
       "    <tr>\n",
       "      <th>7</th>\n",
       "      <td>0.389093</td>\n",
       "      <td>0.529743</td>\n",
       "      <td>0.247994</td>\n",
       "      <td>0.883347</td>\n",
       "      <td>0.817255</td>\n",
       "    </tr>\n",
       "  </tbody>\n",
       "</table>\n",
       "</div>"
      ],
      "text/plain": [
       "          A           B           C         D         E\n",
       "0    654453  100.000000    0.229940  0.278598  0.352589\n",
       "1       100  100.000000  100.000000  0.768851  0.509203\n",
       "2  0.650709    0.736849    0.391800  0.104616  0.746906\n",
       "3  0.599674    0.570605    0.221078  0.321030  0.623730\n",
       "4  0.213762    0.934910    0.009412  0.332479  0.686547\n",
       "5  0.986263    0.067386    0.449672  0.577783  0.732424\n",
       "6   0.02159    0.614747    0.186360  0.550621  0.342377\n",
       "7  0.389093    0.529743    0.247994  0.883347  0.817255"
      ]
     },
     "execution_count": 130,
     "metadata": {},
     "output_type": "execute_result"
    }
   ],
   "source": [
    "df1.reset_index(drop = True)"
   ]
  },
  {
   "cell_type": "code",
   "execution_count": 131,
   "id": "8d9e09e9-82e8-42ca-b2fb-922b2dc11cbc",
   "metadata": {},
   "outputs": [
    {
     "data": {
      "text/plain": [
       "0    False\n",
       "1    False\n",
       "2    False\n",
       "3    False\n",
       "4    False\n",
       "5    False\n",
       "6    False\n",
       "7    False\n",
       "Name: B, dtype: bool"
      ]
     },
     "execution_count": 131,
     "metadata": {},
     "output_type": "execute_result"
    }
   ],
   "source": [
    "df1['B'].isnull()"
   ]
  },
  {
   "cell_type": "code",
   "execution_count": 142,
   "id": "f698ef98-ffcc-417f-8fbb-42ef0a8e1a16",
   "metadata": {},
   "outputs": [],
   "source": [
    "df1.loc[:,['B']] = 56"
   ]
  },
  {
   "cell_type": "code",
   "execution_count": 143,
   "id": "1790688d-1424-4ad8-9f48-9313c447373d",
   "metadata": {},
   "outputs": [
    {
     "data": {
      "text/html": [
       "<div>\n",
       "<style scoped>\n",
       "    .dataframe tbody tr th:only-of-type {\n",
       "        vertical-align: middle;\n",
       "    }\n",
       "\n",
       "    .dataframe tbody tr th {\n",
       "        vertical-align: top;\n",
       "    }\n",
       "\n",
       "    .dataframe thead th {\n",
       "        text-align: right;\n",
       "    }\n",
       "</style>\n",
       "<table border=\"1\" class=\"dataframe\">\n",
       "  <thead>\n",
       "    <tr style=\"text-align: right;\">\n",
       "      <th></th>\n",
       "      <th>A</th>\n",
       "      <th>B</th>\n",
       "      <th>C</th>\n",
       "      <th>D</th>\n",
       "      <th>E</th>\n",
       "    </tr>\n",
       "  </thead>\n",
       "  <tbody>\n",
       "    <tr>\n",
       "      <th>0</th>\n",
       "      <td>654453</td>\n",
       "      <td>56</td>\n",
       "      <td>0.229940</td>\n",
       "      <td>0.278598</td>\n",
       "      <td>0.352589</td>\n",
       "    </tr>\n",
       "    <tr>\n",
       "      <th>1</th>\n",
       "      <td>100</td>\n",
       "      <td>56</td>\n",
       "      <td>100.000000</td>\n",
       "      <td>0.768851</td>\n",
       "      <td>0.509203</td>\n",
       "    </tr>\n",
       "    <tr>\n",
       "      <th>2</th>\n",
       "      <td>0.650709</td>\n",
       "      <td>56</td>\n",
       "      <td>0.391800</td>\n",
       "      <td>0.104616</td>\n",
       "      <td>0.746906</td>\n",
       "    </tr>\n",
       "    <tr>\n",
       "      <th>3</th>\n",
       "      <td>0.599674</td>\n",
       "      <td>56</td>\n",
       "      <td>0.221078</td>\n",
       "      <td>0.321030</td>\n",
       "      <td>0.623730</td>\n",
       "    </tr>\n",
       "    <tr>\n",
       "      <th>4</th>\n",
       "      <td>0.213762</td>\n",
       "      <td>56</td>\n",
       "      <td>0.009412</td>\n",
       "      <td>0.332479</td>\n",
       "      <td>0.686547</td>\n",
       "    </tr>\n",
       "    <tr>\n",
       "      <th>5</th>\n",
       "      <td>0.986263</td>\n",
       "      <td>56</td>\n",
       "      <td>0.449672</td>\n",
       "      <td>0.577783</td>\n",
       "      <td>0.732424</td>\n",
       "    </tr>\n",
       "    <tr>\n",
       "      <th>6</th>\n",
       "      <td>0.02159</td>\n",
       "      <td>56</td>\n",
       "      <td>0.186360</td>\n",
       "      <td>0.550621</td>\n",
       "      <td>0.342377</td>\n",
       "    </tr>\n",
       "    <tr>\n",
       "      <th>7</th>\n",
       "      <td>0.389093</td>\n",
       "      <td>56</td>\n",
       "      <td>0.247994</td>\n",
       "      <td>0.883347</td>\n",
       "      <td>0.817255</td>\n",
       "    </tr>\n",
       "  </tbody>\n",
       "</table>\n",
       "</div>"
      ],
      "text/plain": [
       "          A   B           C         D         E\n",
       "0    654453  56    0.229940  0.278598  0.352589\n",
       "1       100  56  100.000000  0.768851  0.509203\n",
       "2  0.650709  56    0.391800  0.104616  0.746906\n",
       "3  0.599674  56    0.221078  0.321030  0.623730\n",
       "4  0.213762  56    0.009412  0.332479  0.686547\n",
       "5  0.986263  56    0.449672  0.577783  0.732424\n",
       "6   0.02159  56    0.186360  0.550621  0.342377\n",
       "7  0.389093  56    0.247994  0.883347  0.817255"
      ]
     },
     "execution_count": 143,
     "metadata": {},
     "output_type": "execute_result"
    }
   ],
   "source": [
    "df1"
   ]
  },
  {
   "cell_type": "code",
   "execution_count": 144,
   "id": "11e45e37-06a1-4919-a914-1d6c1c033c4f",
   "metadata": {},
   "outputs": [
    {
     "data": {
      "text/html": [
       "<div>\n",
       "<style scoped>\n",
       "    .dataframe tbody tr th:only-of-type {\n",
       "        vertical-align: middle;\n",
       "    }\n",
       "\n",
       "    .dataframe tbody tr th {\n",
       "        vertical-align: top;\n",
       "    }\n",
       "\n",
       "    .dataframe thead th {\n",
       "        text-align: right;\n",
       "    }\n",
       "</style>\n",
       "<table border=\"1\" class=\"dataframe\">\n",
       "  <thead>\n",
       "    <tr style=\"text-align: right;\">\n",
       "      <th></th>\n",
       "      <th>A</th>\n",
       "      <th>B</th>\n",
       "      <th>C</th>\n",
       "      <th>D</th>\n",
       "      <th>E</th>\n",
       "    </tr>\n",
       "  </thead>\n",
       "  <tbody>\n",
       "    <tr>\n",
       "      <th>0</th>\n",
       "      <td>654453</td>\n",
       "      <td>56</td>\n",
       "      <td>0.229940</td>\n",
       "      <td>0.278598</td>\n",
       "      <td>0.352589</td>\n",
       "    </tr>\n",
       "    <tr>\n",
       "      <th>1</th>\n",
       "      <td>100</td>\n",
       "      <td>56</td>\n",
       "      <td>100.000000</td>\n",
       "      <td>0.768851</td>\n",
       "      <td>0.509203</td>\n",
       "    </tr>\n",
       "    <tr>\n",
       "      <th>2</th>\n",
       "      <td>0.650709</td>\n",
       "      <td>56</td>\n",
       "      <td>0.391800</td>\n",
       "      <td>0.104616</td>\n",
       "      <td>0.746906</td>\n",
       "    </tr>\n",
       "    <tr>\n",
       "      <th>3</th>\n",
       "      <td>0.599674</td>\n",
       "      <td>56</td>\n",
       "      <td>0.221078</td>\n",
       "      <td>0.321030</td>\n",
       "      <td>0.623730</td>\n",
       "    </tr>\n",
       "    <tr>\n",
       "      <th>4</th>\n",
       "      <td>0.213762</td>\n",
       "      <td>56</td>\n",
       "      <td>0.009412</td>\n",
       "      <td>0.332479</td>\n",
       "      <td>0.686547</td>\n",
       "    </tr>\n",
       "    <tr>\n",
       "      <th>5</th>\n",
       "      <td>0.986263</td>\n",
       "      <td>56</td>\n",
       "      <td>0.449672</td>\n",
       "      <td>0.577783</td>\n",
       "      <td>0.732424</td>\n",
       "    </tr>\n",
       "    <tr>\n",
       "      <th>6</th>\n",
       "      <td>0.02159</td>\n",
       "      <td>56</td>\n",
       "      <td>0.186360</td>\n",
       "      <td>0.550621</td>\n",
       "      <td>0.342377</td>\n",
       "    </tr>\n",
       "    <tr>\n",
       "      <th>7</th>\n",
       "      <td>0.389093</td>\n",
       "      <td>56</td>\n",
       "      <td>0.247994</td>\n",
       "      <td>0.883347</td>\n",
       "      <td>0.817255</td>\n",
       "    </tr>\n",
       "  </tbody>\n",
       "</table>\n",
       "</div>"
      ],
      "text/plain": [
       "          A   B           C         D         E\n",
       "0    654453  56    0.229940  0.278598  0.352589\n",
       "1       100  56  100.000000  0.768851  0.509203\n",
       "2  0.650709  56    0.391800  0.104616  0.746906\n",
       "3  0.599674  56    0.221078  0.321030  0.623730\n",
       "4  0.213762  56    0.009412  0.332479  0.686547\n",
       "5  0.986263  56    0.449672  0.577783  0.732424\n",
       "6   0.02159  56    0.186360  0.550621  0.342377\n",
       "7  0.389093  56    0.247994  0.883347  0.817255"
      ]
     },
     "execution_count": 144,
     "metadata": {},
     "output_type": "execute_result"
    }
   ],
   "source": [
    "df1"
   ]
  },
  {
   "cell_type": "code",
   "execution_count": 145,
   "id": "dfacbc60-c72e-40c8-b9d6-99b7deec20c2",
   "metadata": {},
   "outputs": [
    {
     "data": {
      "text/plain": [
       "0    False\n",
       "1    False\n",
       "2    False\n",
       "3    False\n",
       "4    False\n",
       "5    False\n",
       "6    False\n",
       "7    False\n",
       "Name: B, dtype: bool"
      ]
     },
     "execution_count": 145,
     "metadata": {},
     "output_type": "execute_result"
    }
   ],
   "source": [
    "df1['B'].isnull()"
   ]
  },
  {
   "cell_type": "code",
   "execution_count": null,
   "id": "eb96dcd9-1f69-4342-9d36-8950425d9e1b",
   "metadata": {},
   "outputs": [],
   "source": []
  },
  {
   "cell_type": "code",
   "execution_count": 180,
   "id": "befede15-cf37-4598-9a75-714f4f059f00",
   "metadata": {},
   "outputs": [],
   "source": [
    "df2 = pd.DataFrame({\"name\": ['alfred', 'batman', 'alfred'],\n",
    "                    \"toy\": [np.nan, 'batmobile', 'bullwhip'],\n",
    "                    \"born\": [pd.NaT, pd.Timestamp(\"1940-04-25\"), pd.NaT]})"
   ]
  },
  {
   "cell_type": "code",
   "execution_count": 181,
   "id": "7f2b16c7-8118-42e5-b36a-402db34e833c",
   "metadata": {},
   "outputs": [
    {
     "data": {
      "text/html": [
       "<div>\n",
       "<style scoped>\n",
       "    .dataframe tbody tr th:only-of-type {\n",
       "        vertical-align: middle;\n",
       "    }\n",
       "\n",
       "    .dataframe tbody tr th {\n",
       "        vertical-align: top;\n",
       "    }\n",
       "\n",
       "    .dataframe thead th {\n",
       "        text-align: right;\n",
       "    }\n",
       "</style>\n",
       "<table border=\"1\" class=\"dataframe\">\n",
       "  <thead>\n",
       "    <tr style=\"text-align: right;\">\n",
       "      <th></th>\n",
       "      <th>name</th>\n",
       "      <th>toy</th>\n",
       "      <th>born</th>\n",
       "    </tr>\n",
       "  </thead>\n",
       "  <tbody>\n",
       "    <tr>\n",
       "      <th>0</th>\n",
       "      <td>alfred</td>\n",
       "      <td>NaN</td>\n",
       "      <td>NaT</td>\n",
       "    </tr>\n",
       "    <tr>\n",
       "      <th>1</th>\n",
       "      <td>batman</td>\n",
       "      <td>batmobile</td>\n",
       "      <td>1940-04-25</td>\n",
       "    </tr>\n",
       "    <tr>\n",
       "      <th>2</th>\n",
       "      <td>alfred</td>\n",
       "      <td>bullwhip</td>\n",
       "      <td>NaT</td>\n",
       "    </tr>\n",
       "  </tbody>\n",
       "</table>\n",
       "</div>"
      ],
      "text/plain": [
       "     name        toy       born\n",
       "0  alfred        NaN        NaT\n",
       "1  batman  batmobile 1940-04-25\n",
       "2  alfred   bullwhip        NaT"
      ]
     },
     "execution_count": 181,
     "metadata": {},
     "output_type": "execute_result"
    }
   ],
   "source": [
    "df2.head()"
   ]
  },
  {
   "cell_type": "code",
   "execution_count": 182,
   "id": "0a91436e-7545-4308-b957-0157dad26c15",
   "metadata": {},
   "outputs": [
    {
     "data": {
      "text/html": [
       "<div>\n",
       "<style scoped>\n",
       "    .dataframe tbody tr th:only-of-type {\n",
       "        vertical-align: middle;\n",
       "    }\n",
       "\n",
       "    .dataframe tbody tr th {\n",
       "        vertical-align: top;\n",
       "    }\n",
       "\n",
       "    .dataframe thead th {\n",
       "        text-align: right;\n",
       "    }\n",
       "</style>\n",
       "<table border=\"1\" class=\"dataframe\">\n",
       "  <thead>\n",
       "    <tr style=\"text-align: right;\">\n",
       "      <th></th>\n",
       "      <th>name</th>\n",
       "      <th>toy</th>\n",
       "      <th>born</th>\n",
       "    </tr>\n",
       "  </thead>\n",
       "  <tbody>\n",
       "    <tr>\n",
       "      <th>1</th>\n",
       "      <td>batman</td>\n",
       "      <td>batmobile</td>\n",
       "      <td>1940-04-25</td>\n",
       "    </tr>\n",
       "  </tbody>\n",
       "</table>\n",
       "</div>"
      ],
      "text/plain": [
       "     name        toy       born\n",
       "1  batman  batmobile 1940-04-25"
      ]
     },
     "execution_count": 182,
     "metadata": {},
     "output_type": "execute_result"
    }
   ],
   "source": [
    "df2.dropna()"
   ]
  },
  {
   "cell_type": "code",
   "execution_count": 183,
   "id": "363309fc-360d-478c-b47e-f665dcefa44d",
   "metadata": {},
   "outputs": [
    {
     "data": {
      "text/html": [
       "<div>\n",
       "<style scoped>\n",
       "    .dataframe tbody tr th:only-of-type {\n",
       "        vertical-align: middle;\n",
       "    }\n",
       "\n",
       "    .dataframe tbody tr th {\n",
       "        vertical-align: top;\n",
       "    }\n",
       "\n",
       "    .dataframe thead th {\n",
       "        text-align: right;\n",
       "    }\n",
       "</style>\n",
       "<table border=\"1\" class=\"dataframe\">\n",
       "  <thead>\n",
       "    <tr style=\"text-align: right;\">\n",
       "      <th></th>\n",
       "      <th>name</th>\n",
       "      <th>toy</th>\n",
       "      <th>born</th>\n",
       "    </tr>\n",
       "  </thead>\n",
       "  <tbody>\n",
       "    <tr>\n",
       "      <th>0</th>\n",
       "      <td>alfred</td>\n",
       "      <td>NaN</td>\n",
       "      <td>NaT</td>\n",
       "    </tr>\n",
       "    <tr>\n",
       "      <th>1</th>\n",
       "      <td>batman</td>\n",
       "      <td>batmobile</td>\n",
       "      <td>1940-04-25</td>\n",
       "    </tr>\n",
       "    <tr>\n",
       "      <th>2</th>\n",
       "      <td>alfred</td>\n",
       "      <td>bullwhip</td>\n",
       "      <td>NaT</td>\n",
       "    </tr>\n",
       "  </tbody>\n",
       "</table>\n",
       "</div>"
      ],
      "text/plain": [
       "     name        toy       born\n",
       "0  alfred        NaN        NaT\n",
       "1  batman  batmobile 1940-04-25\n",
       "2  alfred   bullwhip        NaT"
      ]
     },
     "execution_count": 183,
     "metadata": {},
     "output_type": "execute_result"
    }
   ],
   "source": [
    "df2"
   ]
  },
  {
   "cell_type": "code",
   "execution_count": 184,
   "id": "e980b347-a37d-45cc-8be4-23d23153c4fd",
   "metadata": {},
   "outputs": [
    {
     "data": {
      "text/html": [
       "<div>\n",
       "<style scoped>\n",
       "    .dataframe tbody tr th:only-of-type {\n",
       "        vertical-align: middle;\n",
       "    }\n",
       "\n",
       "    .dataframe tbody tr th {\n",
       "        vertical-align: top;\n",
       "    }\n",
       "\n",
       "    .dataframe thead th {\n",
       "        text-align: right;\n",
       "    }\n",
       "</style>\n",
       "<table border=\"1\" class=\"dataframe\">\n",
       "  <thead>\n",
       "    <tr style=\"text-align: right;\">\n",
       "      <th></th>\n",
       "      <th>name</th>\n",
       "      <th>toy</th>\n",
       "      <th>born</th>\n",
       "    </tr>\n",
       "  </thead>\n",
       "  <tbody>\n",
       "    <tr>\n",
       "      <th>0</th>\n",
       "      <td>alfred</td>\n",
       "      <td>NaN</td>\n",
       "      <td>NaT</td>\n",
       "    </tr>\n",
       "    <tr>\n",
       "      <th>1</th>\n",
       "      <td>batman</td>\n",
       "      <td>batmobile</td>\n",
       "      <td>1940-04-25</td>\n",
       "    </tr>\n",
       "    <tr>\n",
       "      <th>2</th>\n",
       "      <td>alfred</td>\n",
       "      <td>bullwhip</td>\n",
       "      <td>NaT</td>\n",
       "    </tr>\n",
       "  </tbody>\n",
       "</table>\n",
       "</div>"
      ],
      "text/plain": [
       "     name        toy       born\n",
       "0  alfred        NaN        NaT\n",
       "1  batman  batmobile 1940-04-25\n",
       "2  alfred   bullwhip        NaT"
      ]
     },
     "execution_count": 184,
     "metadata": {},
     "output_type": "execute_result"
    }
   ],
   "source": [
    "df2.dropna(how = 'all')"
   ]
  },
  {
   "cell_type": "code",
   "execution_count": 186,
   "id": "7f086221-1841-418d-b6e5-afc5b97f3b18",
   "metadata": {},
   "outputs": [
    {
     "data": {
      "text/html": [
       "<div>\n",
       "<style scoped>\n",
       "    .dataframe tbody tr th:only-of-type {\n",
       "        vertical-align: middle;\n",
       "    }\n",
       "\n",
       "    .dataframe tbody tr th {\n",
       "        vertical-align: top;\n",
       "    }\n",
       "\n",
       "    .dataframe thead th {\n",
       "        text-align: right;\n",
       "    }\n",
       "</style>\n",
       "<table border=\"1\" class=\"dataframe\">\n",
       "  <thead>\n",
       "    <tr style=\"text-align: right;\">\n",
       "      <th></th>\n",
       "      <th>name</th>\n",
       "      <th>toy</th>\n",
       "      <th>born</th>\n",
       "    </tr>\n",
       "  </thead>\n",
       "  <tbody>\n",
       "    <tr>\n",
       "      <th>0</th>\n",
       "      <td>alfred</td>\n",
       "      <td>NaN</td>\n",
       "      <td>NaT</td>\n",
       "    </tr>\n",
       "    <tr>\n",
       "      <th>1</th>\n",
       "      <td>batman</td>\n",
       "      <td>batmobile</td>\n",
       "      <td>1940-04-25</td>\n",
       "    </tr>\n",
       "  </tbody>\n",
       "</table>\n",
       "</div>"
      ],
      "text/plain": [
       "     name        toy       born\n",
       "0  alfred        NaN        NaT\n",
       "1  batman  batmobile 1940-04-25"
      ]
     },
     "execution_count": 186,
     "metadata": {},
     "output_type": "execute_result"
    }
   ],
   "source": [
    "df2.drop_duplicates(subset=['name'])"
   ]
  },
  {
   "cell_type": "code",
   "execution_count": 187,
   "id": "c838737e-85a6-4bbd-9311-aa587affdd07",
   "metadata": {},
   "outputs": [
    {
     "data": {
      "text/html": [
       "<div>\n",
       "<style scoped>\n",
       "    .dataframe tbody tr th:only-of-type {\n",
       "        vertical-align: middle;\n",
       "    }\n",
       "\n",
       "    .dataframe tbody tr th {\n",
       "        vertical-align: top;\n",
       "    }\n",
       "\n",
       "    .dataframe thead th {\n",
       "        text-align: right;\n",
       "    }\n",
       "</style>\n",
       "<table border=\"1\" class=\"dataframe\">\n",
       "  <thead>\n",
       "    <tr style=\"text-align: right;\">\n",
       "      <th></th>\n",
       "      <th>name</th>\n",
       "      <th>toy</th>\n",
       "      <th>born</th>\n",
       "    </tr>\n",
       "  </thead>\n",
       "  <tbody>\n",
       "    <tr>\n",
       "      <th>0</th>\n",
       "      <td>alfred</td>\n",
       "      <td>NaN</td>\n",
       "      <td>NaT</td>\n",
       "    </tr>\n",
       "    <tr>\n",
       "      <th>1</th>\n",
       "      <td>batman</td>\n",
       "      <td>batmobile</td>\n",
       "      <td>1940-04-25</td>\n",
       "    </tr>\n",
       "    <tr>\n",
       "      <th>2</th>\n",
       "      <td>alfred</td>\n",
       "      <td>bullwhip</td>\n",
       "      <td>NaT</td>\n",
       "    </tr>\n",
       "  </tbody>\n",
       "</table>\n",
       "</div>"
      ],
      "text/plain": [
       "     name        toy       born\n",
       "0  alfred        NaN        NaT\n",
       "1  batman  batmobile 1940-04-25\n",
       "2  alfred   bullwhip        NaT"
      ]
     },
     "execution_count": 187,
     "metadata": {},
     "output_type": "execute_result"
    }
   ],
   "source": [
    "df2"
   ]
  },
  {
   "cell_type": "code",
   "execution_count": 190,
   "id": "9629606b-5959-49f7-834f-e80fa4761f32",
   "metadata": {},
   "outputs": [
    {
     "data": {
      "text/html": [
       "<div>\n",
       "<style scoped>\n",
       "    .dataframe tbody tr th:only-of-type {\n",
       "        vertical-align: middle;\n",
       "    }\n",
       "\n",
       "    .dataframe tbody tr th {\n",
       "        vertical-align: top;\n",
       "    }\n",
       "\n",
       "    .dataframe thead th {\n",
       "        text-align: right;\n",
       "    }\n",
       "</style>\n",
       "<table border=\"1\" class=\"dataframe\">\n",
       "  <thead>\n",
       "    <tr style=\"text-align: right;\">\n",
       "      <th></th>\n",
       "      <th>name</th>\n",
       "      <th>toy</th>\n",
       "      <th>born</th>\n",
       "    </tr>\n",
       "  </thead>\n",
       "  <tbody>\n",
       "    <tr>\n",
       "      <th>0</th>\n",
       "      <td>alfred</td>\n",
       "      <td>NaN</td>\n",
       "      <td>NaT</td>\n",
       "    </tr>\n",
       "    <tr>\n",
       "      <th>1</th>\n",
       "      <td>batman</td>\n",
       "      <td>batmobile</td>\n",
       "      <td>1940-04-25</td>\n",
       "    </tr>\n",
       "  </tbody>\n",
       "</table>\n",
       "</div>"
      ],
      "text/plain": [
       "     name        toy       born\n",
       "0  alfred        NaN        NaT\n",
       "1  batman  batmobile 1940-04-25"
      ]
     },
     "execution_count": 190,
     "metadata": {},
     "output_type": "execute_result"
    }
   ],
   "source": [
    "df2.drop_duplicates(subset=['name'], keep='first')"
   ]
  },
  {
   "cell_type": "code",
   "execution_count": 191,
   "id": "ad713ee5-570b-4897-bc03-e6be1d1ca4e9",
   "metadata": {},
   "outputs": [
    {
     "data": {
      "text/html": [
       "<div>\n",
       "<style scoped>\n",
       "    .dataframe tbody tr th:only-of-type {\n",
       "        vertical-align: middle;\n",
       "    }\n",
       "\n",
       "    .dataframe tbody tr th {\n",
       "        vertical-align: top;\n",
       "    }\n",
       "\n",
       "    .dataframe thead th {\n",
       "        text-align: right;\n",
       "    }\n",
       "</style>\n",
       "<table border=\"1\" class=\"dataframe\">\n",
       "  <thead>\n",
       "    <tr style=\"text-align: right;\">\n",
       "      <th></th>\n",
       "      <th>name</th>\n",
       "      <th>toy</th>\n",
       "      <th>born</th>\n",
       "    </tr>\n",
       "  </thead>\n",
       "  <tbody>\n",
       "    <tr>\n",
       "      <th>1</th>\n",
       "      <td>batman</td>\n",
       "      <td>batmobile</td>\n",
       "      <td>1940-04-25</td>\n",
       "    </tr>\n",
       "    <tr>\n",
       "      <th>2</th>\n",
       "      <td>alfred</td>\n",
       "      <td>bullwhip</td>\n",
       "      <td>NaT</td>\n",
       "    </tr>\n",
       "  </tbody>\n",
       "</table>\n",
       "</div>"
      ],
      "text/plain": [
       "     name        toy       born\n",
       "1  batman  batmobile 1940-04-25\n",
       "2  alfred   bullwhip        NaT"
      ]
     },
     "execution_count": 191,
     "metadata": {},
     "output_type": "execute_result"
    }
   ],
   "source": [
    "df2.drop_duplicates(subset=['name'], keep='last')"
   ]
  },
  {
   "cell_type": "code",
   "execution_count": 192,
   "id": "9e6acce3-4389-4f70-a71e-7cec1385a5f9",
   "metadata": {},
   "outputs": [
    {
     "data": {
      "text/html": [
       "<div>\n",
       "<style scoped>\n",
       "    .dataframe tbody tr th:only-of-type {\n",
       "        vertical-align: middle;\n",
       "    }\n",
       "\n",
       "    .dataframe tbody tr th {\n",
       "        vertical-align: top;\n",
       "    }\n",
       "\n",
       "    .dataframe thead th {\n",
       "        text-align: right;\n",
       "    }\n",
       "</style>\n",
       "<table border=\"1\" class=\"dataframe\">\n",
       "  <thead>\n",
       "    <tr style=\"text-align: right;\">\n",
       "      <th></th>\n",
       "      <th>A</th>\n",
       "      <th>B</th>\n",
       "      <th>C</th>\n",
       "      <th>D</th>\n",
       "      <th>E</th>\n",
       "    </tr>\n",
       "  </thead>\n",
       "  <tbody>\n",
       "    <tr>\n",
       "      <th>0</th>\n",
       "      <td>654453</td>\n",
       "      <td>56</td>\n",
       "      <td>0.229940</td>\n",
       "      <td>0.278598</td>\n",
       "      <td>0.352589</td>\n",
       "    </tr>\n",
       "    <tr>\n",
       "      <th>1</th>\n",
       "      <td>100</td>\n",
       "      <td>56</td>\n",
       "      <td>100.000000</td>\n",
       "      <td>0.768851</td>\n",
       "      <td>0.509203</td>\n",
       "    </tr>\n",
       "    <tr>\n",
       "      <th>2</th>\n",
       "      <td>0.650709</td>\n",
       "      <td>56</td>\n",
       "      <td>0.391800</td>\n",
       "      <td>0.104616</td>\n",
       "      <td>0.746906</td>\n",
       "    </tr>\n",
       "    <tr>\n",
       "      <th>3</th>\n",
       "      <td>0.599674</td>\n",
       "      <td>56</td>\n",
       "      <td>0.221078</td>\n",
       "      <td>0.321030</td>\n",
       "      <td>0.623730</td>\n",
       "    </tr>\n",
       "    <tr>\n",
       "      <th>4</th>\n",
       "      <td>0.213762</td>\n",
       "      <td>56</td>\n",
       "      <td>0.009412</td>\n",
       "      <td>0.332479</td>\n",
       "      <td>0.686547</td>\n",
       "    </tr>\n",
       "    <tr>\n",
       "      <th>5</th>\n",
       "      <td>0.986263</td>\n",
       "      <td>56</td>\n",
       "      <td>0.449672</td>\n",
       "      <td>0.577783</td>\n",
       "      <td>0.732424</td>\n",
       "    </tr>\n",
       "    <tr>\n",
       "      <th>6</th>\n",
       "      <td>0.02159</td>\n",
       "      <td>56</td>\n",
       "      <td>0.186360</td>\n",
       "      <td>0.550621</td>\n",
       "      <td>0.342377</td>\n",
       "    </tr>\n",
       "    <tr>\n",
       "      <th>7</th>\n",
       "      <td>0.389093</td>\n",
       "      <td>56</td>\n",
       "      <td>0.247994</td>\n",
       "      <td>0.883347</td>\n",
       "      <td>0.817255</td>\n",
       "    </tr>\n",
       "  </tbody>\n",
       "</table>\n",
       "</div>"
      ],
      "text/plain": [
       "          A   B           C         D         E\n",
       "0    654453  56    0.229940  0.278598  0.352589\n",
       "1       100  56  100.000000  0.768851  0.509203\n",
       "2  0.650709  56    0.391800  0.104616  0.746906\n",
       "3  0.599674  56    0.221078  0.321030  0.623730\n",
       "4  0.213762  56    0.009412  0.332479  0.686547\n",
       "5  0.986263  56    0.449672  0.577783  0.732424\n",
       "6   0.02159  56    0.186360  0.550621  0.342377\n",
       "7  0.389093  56    0.247994  0.883347  0.817255"
      ]
     },
     "execution_count": 192,
     "metadata": {},
     "output_type": "execute_result"
    }
   ],
   "source": [
    "df1"
   ]
  },
  {
   "cell_type": "code",
   "execution_count": 193,
   "id": "08072e1a-2f57-4cba-b0a7-677b3811bc75",
   "metadata": {},
   "outputs": [
    {
     "data": {
      "text/plain": [
       "(8, 5)"
      ]
     },
     "execution_count": 193,
     "metadata": {},
     "output_type": "execute_result"
    }
   ],
   "source": [
    "df1.shape"
   ]
  },
  {
   "cell_type": "code",
   "execution_count": 195,
   "id": "0594effe-7648-4276-a3ab-c4e181b85c20",
   "metadata": {},
   "outputs": [
    {
     "name": "stdout",
     "output_type": "stream",
     "text": [
      "<class 'pandas.core.frame.DataFrame'>\n",
      "Index: 8 entries, 0 to 7\n",
      "Data columns (total 5 columns):\n",
      " #   Column  Non-Null Count  Dtype  \n",
      "---  ------  --------------  -----  \n",
      " 0   A       8 non-null      object \n",
      " 1   B       8 non-null      object \n",
      " 2   C       8 non-null      float64\n",
      " 3   D       8 non-null      float64\n",
      " 4   E       8 non-null      float64\n",
      "dtypes: float64(3), object(2)\n",
      "memory usage: 588.0+ bytes\n"
     ]
    }
   ],
   "source": [
    "df1.info()"
   ]
  },
  {
   "cell_type": "code",
   "execution_count": 197,
   "id": "a83e237e-f362-471b-a6c0-a96f7c3fade8",
   "metadata": {},
   "outputs": [
    {
     "data": {
      "text/plain": [
       "toy\n",
       "NaN          1\n",
       "batmobile    1\n",
       "bullwhip     1\n",
       "Name: count, dtype: int64"
      ]
     },
     "execution_count": 197,
     "metadata": {},
     "output_type": "execute_result"
    }
   ],
   "source": [
    "df2['toy'].value_counts(dropna = False)"
   ]
  },
  {
   "cell_type": "code",
   "execution_count": 198,
   "id": "2ae40ffc-7dc2-4b5c-af8d-88a9622169ba",
   "metadata": {},
   "outputs": [],
   "source": [
    "## homework practise"
   ]
  },
  {
   "cell_type": "code",
   "execution_count": 202,
   "id": "e457a5d0-14d3-4b7c-93fc-bc7c0f9d9e7e",
   "metadata": {},
   "outputs": [],
   "source": [
    "home = pd.DataFrame(np.random.rand(3,2), index = np.arange(3))"
   ]
  },
  {
   "cell_type": "code",
   "execution_count": 203,
   "id": "fb9fd8c2-20e4-4ef9-bf90-143c144135aa",
   "metadata": {},
   "outputs": [
    {
     "data": {
      "text/html": [
       "<div>\n",
       "<style scoped>\n",
       "    .dataframe tbody tr th:only-of-type {\n",
       "        vertical-align: middle;\n",
       "    }\n",
       "\n",
       "    .dataframe tbody tr th {\n",
       "        vertical-align: top;\n",
       "    }\n",
       "\n",
       "    .dataframe thead th {\n",
       "        text-align: right;\n",
       "    }\n",
       "</style>\n",
       "<table border=\"1\" class=\"dataframe\">\n",
       "  <thead>\n",
       "    <tr style=\"text-align: right;\">\n",
       "      <th></th>\n",
       "      <th>0</th>\n",
       "      <th>1</th>\n",
       "    </tr>\n",
       "  </thead>\n",
       "  <tbody>\n",
       "    <tr>\n",
       "      <th>0</th>\n",
       "      <td>0.425868</td>\n",
       "      <td>0.265398</td>\n",
       "    </tr>\n",
       "    <tr>\n",
       "      <th>1</th>\n",
       "      <td>0.603738</td>\n",
       "      <td>0.454872</td>\n",
       "    </tr>\n",
       "    <tr>\n",
       "      <th>2</th>\n",
       "      <td>0.379884</td>\n",
       "      <td>0.269930</td>\n",
       "    </tr>\n",
       "  </tbody>\n",
       "</table>\n",
       "</div>"
      ],
      "text/plain": [
       "          0         1\n",
       "0  0.425868  0.265398\n",
       "1  0.603738  0.454872\n",
       "2  0.379884  0.269930"
      ]
     },
     "execution_count": 203,
     "metadata": {},
     "output_type": "execute_result"
    }
   ],
   "source": [
    "home.head()"
   ]
  },
  {
   "cell_type": "code",
   "execution_count": 204,
   "id": "8165455a-2ff7-4ffc-9873-1f792f0dacaf",
   "metadata": {},
   "outputs": [
    {
     "data": {
      "text/html": [
       "<div>\n",
       "<style scoped>\n",
       "    .dataframe tbody tr th:only-of-type {\n",
       "        vertical-align: middle;\n",
       "    }\n",
       "\n",
       "    .dataframe tbody tr th {\n",
       "        vertical-align: top;\n",
       "    }\n",
       "\n",
       "    .dataframe thead th {\n",
       "        text-align: right;\n",
       "    }\n",
       "</style>\n",
       "<table border=\"1\" class=\"dataframe\">\n",
       "  <thead>\n",
       "    <tr style=\"text-align: right;\">\n",
       "      <th></th>\n",
       "      <th>0</th>\n",
       "      <th>1</th>\n",
       "    </tr>\n",
       "  </thead>\n",
       "  <tbody>\n",
       "    <tr>\n",
       "      <th>count</th>\n",
       "      <td>3.000000</td>\n",
       "      <td>3.000000</td>\n",
       "    </tr>\n",
       "    <tr>\n",
       "      <th>mean</th>\n",
       "      <td>0.469830</td>\n",
       "      <td>0.330067</td>\n",
       "    </tr>\n",
       "    <tr>\n",
       "      <th>std</th>\n",
       "      <td>0.118225</td>\n",
       "      <td>0.108108</td>\n",
       "    </tr>\n",
       "    <tr>\n",
       "      <th>min</th>\n",
       "      <td>0.379884</td>\n",
       "      <td>0.265398</td>\n",
       "    </tr>\n",
       "    <tr>\n",
       "      <th>25%</th>\n",
       "      <td>0.402876</td>\n",
       "      <td>0.267664</td>\n",
       "    </tr>\n",
       "    <tr>\n",
       "      <th>50%</th>\n",
       "      <td>0.425868</td>\n",
       "      <td>0.269930</td>\n",
       "    </tr>\n",
       "    <tr>\n",
       "      <th>75%</th>\n",
       "      <td>0.514803</td>\n",
       "      <td>0.362401</td>\n",
       "    </tr>\n",
       "    <tr>\n",
       "      <th>max</th>\n",
       "      <td>0.603738</td>\n",
       "      <td>0.454872</td>\n",
       "    </tr>\n",
       "  </tbody>\n",
       "</table>\n",
       "</div>"
      ],
      "text/plain": [
       "              0         1\n",
       "count  3.000000  3.000000\n",
       "mean   0.469830  0.330067\n",
       "std    0.118225  0.108108\n",
       "min    0.379884  0.265398\n",
       "25%    0.402876  0.267664\n",
       "50%    0.425868  0.269930\n",
       "75%    0.514803  0.362401\n",
       "max    0.603738  0.454872"
      ]
     },
     "execution_count": 204,
     "metadata": {},
     "output_type": "execute_result"
    }
   ],
   "source": [
    "home.describe()"
   ]
  },
  {
   "cell_type": "code",
   "execution_count": 205,
   "id": "43265d81-b5a2-42c5-8426-141a4b49156e",
   "metadata": {},
   "outputs": [
    {
     "data": {
      "text/plain": [
       "0    0.469830\n",
       "1    0.330067\n",
       "dtype: float64"
      ]
     },
     "execution_count": 205,
     "metadata": {},
     "output_type": "execute_result"
    }
   ],
   "source": [
    "home.mean()"
   ]
  },
  {
   "cell_type": "code",
   "execution_count": 206,
   "id": "00ce6d7b-dd16-422e-8615-5e1a3ff047f7",
   "metadata": {},
   "outputs": [
    {
     "data": {
      "text/html": [
       "<div>\n",
       "<style scoped>\n",
       "    .dataframe tbody tr th:only-of-type {\n",
       "        vertical-align: middle;\n",
       "    }\n",
       "\n",
       "    .dataframe tbody tr th {\n",
       "        vertical-align: top;\n",
       "    }\n",
       "\n",
       "    .dataframe thead th {\n",
       "        text-align: right;\n",
       "    }\n",
       "</style>\n",
       "<table border=\"1\" class=\"dataframe\">\n",
       "  <thead>\n",
       "    <tr style=\"text-align: right;\">\n",
       "      <th></th>\n",
       "      <th>0</th>\n",
       "      <th>1</th>\n",
       "    </tr>\n",
       "  </thead>\n",
       "  <tbody>\n",
       "    <tr>\n",
       "      <th>0</th>\n",
       "      <td>1.000000</td>\n",
       "      <td>0.976616</td>\n",
       "    </tr>\n",
       "    <tr>\n",
       "      <th>1</th>\n",
       "      <td>0.976616</td>\n",
       "      <td>1.000000</td>\n",
       "    </tr>\n",
       "  </tbody>\n",
       "</table>\n",
       "</div>"
      ],
      "text/plain": [
       "          0         1\n",
       "0  1.000000  0.976616\n",
       "1  0.976616  1.000000"
      ]
     },
     "execution_count": 206,
     "metadata": {},
     "output_type": "execute_result"
    }
   ],
   "source": [
    "home.corr()"
   ]
  },
  {
   "cell_type": "code",
   "execution_count": 207,
   "id": "4e6bd548-c24f-4aa5-bdf2-8876768fb29a",
   "metadata": {},
   "outputs": [
    {
     "data": {
      "text/plain": [
       "0    3\n",
       "1    3\n",
       "dtype: int64"
      ]
     },
     "execution_count": 207,
     "metadata": {},
     "output_type": "execute_result"
    }
   ],
   "source": [
    "home.count()"
   ]
  },
  {
   "cell_type": "code",
   "execution_count": 209,
   "id": "02d98f12-a2e2-410d-b041-3a7427c35ce5",
   "metadata": {},
   "outputs": [
    {
     "data": {
      "text/plain": [
       "0    0.425868\n",
       "1    0.603738\n",
       "2    0.379884\n",
       "dtype: float64"
      ]
     },
     "execution_count": 209,
     "metadata": {},
     "output_type": "execute_result"
    }
   ],
   "source": [
    "home.max(axis=1)"
   ]
  },
  {
   "cell_type": "code",
   "execution_count": 210,
   "id": "895f059e-3cca-44bd-8516-e14c7b42ca6d",
   "metadata": {},
   "outputs": [
    {
     "data": {
      "text/plain": [
       "0    0.379884\n",
       "1    0.265398\n",
       "dtype: float64"
      ]
     },
     "execution_count": 210,
     "metadata": {},
     "output_type": "execute_result"
    }
   ],
   "source": [
    "home.min()"
   ]
  },
  {
   "cell_type": "code",
   "execution_count": 211,
   "id": "cee95c0c-c8e8-4513-b111-500057ff68c0",
   "metadata": {},
   "outputs": [
    {
     "data": {
      "text/plain": [
       "0    0.425868\n",
       "1    0.269930\n",
       "dtype: float64"
      ]
     },
     "execution_count": 211,
     "metadata": {},
     "output_type": "execute_result"
    }
   ],
   "source": [
    "home.median()"
   ]
  },
  {
   "cell_type": "code",
   "execution_count": 213,
   "id": "9921f80c-e505-41ce-8842-174ea912c3a9",
   "metadata": {},
   "outputs": [
    {
     "data": {
      "text/plain": [
       "0    0.113469\n",
       "1    0.105265\n",
       "2    0.077750\n",
       "dtype: float64"
      ]
     },
     "execution_count": 213,
     "metadata": {},
     "output_type": "execute_result"
    }
   ],
   "source": [
    "home.std(axis=1)"
   ]
  },
  {
   "cell_type": "code",
   "execution_count": 223,
   "id": "8ec4ea9a-8067-45db-9d23-a57a237c9b90",
   "metadata": {},
   "outputs": [],
   "source": [
    "data = pd.read_excel('data.xlsx')"
   ]
  },
  {
   "cell_type": "code",
   "execution_count": 224,
   "id": "4b5750b5-3a7a-4b8f-9b65-8e2dfe9d3529",
   "metadata": {},
   "outputs": [
    {
     "data": {
      "text/html": [
       "<div>\n",
       "<style scoped>\n",
       "    .dataframe tbody tr th:only-of-type {\n",
       "        vertical-align: middle;\n",
       "    }\n",
       "\n",
       "    .dataframe tbody tr th {\n",
       "        vertical-align: top;\n",
       "    }\n",
       "\n",
       "    .dataframe thead th {\n",
       "        text-align: right;\n",
       "    }\n",
       "</style>\n",
       "<table border=\"1\" class=\"dataframe\">\n",
       "  <thead>\n",
       "    <tr style=\"text-align: right;\">\n",
       "      <th></th>\n",
       "      <th>roll no</th>\n",
       "      <th>name</th>\n",
       "      <th>stream</th>\n",
       "    </tr>\n",
       "  </thead>\n",
       "  <tbody>\n",
       "    <tr>\n",
       "      <th>0</th>\n",
       "      <td>1</td>\n",
       "      <td>shhaurya</td>\n",
       "      <td>pcm</td>\n",
       "    </tr>\n",
       "    <tr>\n",
       "      <th>1</th>\n",
       "      <td>2</td>\n",
       "      <td>shivaan</td>\n",
       "      <td>pcm</td>\n",
       "    </tr>\n",
       "    <tr>\n",
       "      <th>2</th>\n",
       "      <td>3</td>\n",
       "      <td>kabir</td>\n",
       "      <td>pbc</td>\n",
       "    </tr>\n",
       "    <tr>\n",
       "      <th>3</th>\n",
       "      <td>4</td>\n",
       "      <td>jojo</td>\n",
       "      <td>commerce</td>\n",
       "    </tr>\n",
       "    <tr>\n",
       "      <th>4</th>\n",
       "      <td>5</td>\n",
       "      <td>krishna</td>\n",
       "      <td>human</td>\n",
       "    </tr>\n",
       "  </tbody>\n",
       "</table>\n",
       "</div>"
      ],
      "text/plain": [
       "   roll no      name    stream\n",
       "0        1  shhaurya       pcm\n",
       "1        2   shivaan       pcm\n",
       "2        3     kabir       pbc\n",
       "3        4      jojo  commerce\n",
       "4        5   krishna     human"
      ]
     },
     "execution_count": 224,
     "metadata": {},
     "output_type": "execute_result"
    }
   ],
   "source": [
    "data"
   ]
  },
  {
   "cell_type": "code",
   "execution_count": 225,
   "id": "bed35130-a9f2-47f6-98d3-c5eb45de3f1a",
   "metadata": {},
   "outputs": [],
   "source": [
    "data2 = pd.read_excel('data.xlsx' , sheet_name = 'Sheet2')"
   ]
  },
  {
   "cell_type": "code",
   "execution_count": 226,
   "id": "250e0b88-3f2e-4e80-8b51-dfc8d5e8a06c",
   "metadata": {},
   "outputs": [
    {
     "data": {
      "text/html": [
       "<div>\n",
       "<style scoped>\n",
       "    .dataframe tbody tr th:only-of-type {\n",
       "        vertical-align: middle;\n",
       "    }\n",
       "\n",
       "    .dataframe tbody tr th {\n",
       "        vertical-align: top;\n",
       "    }\n",
       "\n",
       "    .dataframe thead th {\n",
       "        text-align: right;\n",
       "    }\n",
       "</style>\n",
       "<table border=\"1\" class=\"dataframe\">\n",
       "  <thead>\n",
       "    <tr style=\"text-align: right;\">\n",
       "      <th></th>\n",
       "      <th>roll no</th>\n",
       "      <th>name2</th>\n",
       "      <th>stream2</th>\n",
       "    </tr>\n",
       "  </thead>\n",
       "  <tbody>\n",
       "    <tr>\n",
       "      <th>0</th>\n",
       "      <td>1</td>\n",
       "      <td>shhaurya</td>\n",
       "      <td>pbc</td>\n",
       "    </tr>\n",
       "    <tr>\n",
       "      <th>1</th>\n",
       "      <td>2</td>\n",
       "      <td>shivaan</td>\n",
       "      <td>pcm</td>\n",
       "    </tr>\n",
       "    <tr>\n",
       "      <th>2</th>\n",
       "      <td>3</td>\n",
       "      <td>kabir</td>\n",
       "      <td>pbc</td>\n",
       "    </tr>\n",
       "    <tr>\n",
       "      <th>3</th>\n",
       "      <td>4</td>\n",
       "      <td>jojo</td>\n",
       "      <td>kuch nahi</td>\n",
       "    </tr>\n",
       "    <tr>\n",
       "      <th>4</th>\n",
       "      <td>5</td>\n",
       "      <td>krishna</td>\n",
       "      <td>human</td>\n",
       "    </tr>\n",
       "  </tbody>\n",
       "</table>\n",
       "</div>"
      ],
      "text/plain": [
       "   roll no     name2    stream2\n",
       "0        1  shhaurya        pbc\n",
       "1        2   shivaan        pcm\n",
       "2        3     kabir        pbc\n",
       "3        4      jojo  kuch nahi\n",
       "4        5   krishna      human"
      ]
     },
     "execution_count": 226,
     "metadata": {},
     "output_type": "execute_result"
    }
   ],
   "source": [
    "data2"
   ]
  },
  {
   "cell_type": "code",
   "execution_count": 228,
   "id": "fae084dd-59c0-4e55-8a01-377be59f1b38",
   "metadata": {},
   "outputs": [],
   "source": [
    "data2.to_excel('data2.xlsx' , sheet_name='Sheet2')"
   ]
  },
  {
   "cell_type": "code",
   "execution_count": null,
   "id": "a373467d-609f-4a4c-97a9-6974f282a806",
   "metadata": {},
   "outputs": [],
   "source": []
  }
 ],
 "metadata": {
  "kernelspec": {
   "display_name": "Python 3 (ipykernel)",
   "language": "python",
   "name": "python3"
  },
  "language_info": {
   "codemirror_mode": {
    "name": "ipython",
    "version": 3
   },
   "file_extension": ".py",
   "mimetype": "text/x-python",
   "name": "python",
   "nbconvert_exporter": "python",
   "pygments_lexer": "ipython3",
   "version": "3.11.7"
  }
 },
 "nbformat": 4,
 "nbformat_minor": 5
}
